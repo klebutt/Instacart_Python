{
 "cells": [
  {
   "cell_type": "markdown",
   "metadata": {},
   "source": [
    "# High/Low spender"
   ]
  },
  {
   "cell_type": "markdown",
   "metadata": {},
   "source": [
    "### Contents\n",
    "- Crosstab of spending flag and regions\n",
    "- Exclusion flag for low activity customers\n",
    "- New df for most active customers created"
   ]
  },
  {
   "cell_type": "code",
   "execution_count": 1,
   "metadata": {},
   "outputs": [],
   "source": [
    "import pandas as pd\n",
    "import numpy as np\n",
    "import os"
   ]
  },
  {
   "cell_type": "code",
   "execution_count": 2,
   "metadata": {},
   "outputs": [],
   "source": [
    "path = r\"C:\\Users\\Kieran\\Documents\\Career Foundry\\Data Immersion\\4.0 Python\\Instacart Basket Analysis\""
   ]
  },
  {
   "cell_type": "code",
   "execution_count": 3,
   "metadata": {},
   "outputs": [],
   "source": [
    "df = pd.read_pickle(os.path.join(path, '02 Data', 'Prepared Data', '4.10 inc region.pkl'))"
   ]
  },
  {
   "cell_type": "markdown",
   "metadata": {},
   "source": [
    "#### Q3 Determine whether there’s a difference in spending habits between the different U.S. regions. "
   ]
  },
  {
   "cell_type": "code",
   "execution_count": 4,
   "metadata": {},
   "outputs": [
    {
     "data": {
      "text/plain": [
       "Index(['order_id', 'user_id', 'order_number', 'orders_day_of_the_week',\n",
       "       'order_hour_of_day', 'days_since_last_order', 'product_id',\n",
       "       'add_to_cart_order', 'product_name', 'aisle_id', 'department_id',\n",
       "       'prices', 'price_range_loc', 'busiest day', 'busiest_days',\n",
       "       'busiest_period_of_day', 'max_order', 'loyalty_flag', 'mean_spend',\n",
       "       'spend_flag', 'order_freq', 'order_freq_flag', 'gender', 'state', 'age',\n",
       "       'date_joined', 'n_dependants', 'fam_status', 'income', 'region'],\n",
       "      dtype='object')"
      ]
     },
     "execution_count": 4,
     "metadata": {},
     "output_type": "execute_result"
    }
   ],
   "source": [
    "df.columns"
   ]
  },
  {
   "cell_type": "code",
   "execution_count": 5,
   "metadata": {},
   "outputs": [],
   "source": [
    "crosstab = pd.crosstab(df['spend_flag'], df['region'])"
   ]
  },
  {
   "cell_type": "code",
   "execution_count": 6,
   "metadata": {},
   "outputs": [
    {
     "data": {
      "text/html": [
       "<div>\n",
       "<style scoped>\n",
       "    .dataframe tbody tr th:only-of-type {\n",
       "        vertical-align: middle;\n",
       "    }\n",
       "\n",
       "    .dataframe tbody tr th {\n",
       "        vertical-align: top;\n",
       "    }\n",
       "\n",
       "    .dataframe thead th {\n",
       "        text-align: right;\n",
       "    }\n",
       "</style>\n",
       "<table border=\"1\" class=\"dataframe\">\n",
       "  <thead>\n",
       "    <tr style=\"text-align: right;\">\n",
       "      <th>region</th>\n",
       "      <th>Midwest</th>\n",
       "      <th>Northeast</th>\n",
       "      <th>South</th>\n",
       "      <th>West</th>\n",
       "    </tr>\n",
       "    <tr>\n",
       "      <th>spend_flag</th>\n",
       "      <th></th>\n",
       "      <th></th>\n",
       "      <th></th>\n",
       "      <th></th>\n",
       "    </tr>\n",
       "  </thead>\n",
       "  <tbody>\n",
       "    <tr>\n",
       "      <th>High spender</th>\n",
       "      <td>140195</td>\n",
       "      <td>98231</td>\n",
       "      <td>187214</td>\n",
       "      <td>142003</td>\n",
       "    </tr>\n",
       "    <tr>\n",
       "      <th>Low spender</th>\n",
       "      <td>7457130</td>\n",
       "      <td>5624503</td>\n",
       "      <td>10604671</td>\n",
       "      <td>8150910</td>\n",
       "    </tr>\n",
       "  </tbody>\n",
       "</table>\n",
       "</div>"
      ],
      "text/plain": [
       "region        Midwest  Northeast     South     West\n",
       "spend_flag                                         \n",
       "High spender   140195      98231    187214   142003\n",
       "Low spender   7457130    5624503  10604671  8150910"
      ]
     },
     "execution_count": 6,
     "metadata": {},
     "output_type": "execute_result"
    }
   ],
   "source": [
    "crosstab"
   ]
  },
  {
   "cell_type": "markdown",
   "metadata": {},
   "source": [
    "#### Q4 Creat exclusion flag for customers with less than 5 orders, and exclude them from data"
   ]
  },
  {
   "cell_type": "code",
   "execution_count": 7,
   "metadata": {},
   "outputs": [],
   "source": [
    "# creating flag for low activity\n",
    "df.loc[df['order_number'] < 5, 'activity_flag'] = 'low-activity'"
   ]
  },
  {
   "cell_type": "code",
   "execution_count": 9,
   "metadata": {},
   "outputs": [],
   "source": [
    "# creating flag for regular activity\n",
    "df.loc[df['order_number'] >= 5, 'activity_flag'] = 'regular_activity'"
   ]
  },
  {
   "cell_type": "code",
   "execution_count": 11,
   "metadata": {},
   "outputs": [
    {
     "data": {
      "text/plain": [
       "regular_activity    24414876\n",
       "low-activity         7989981\n",
       "Name: activity_flag, dtype: int64"
      ]
     },
     "execution_count": 11,
     "metadata": {},
     "output_type": "execute_result"
    }
   ],
   "source": [
    "df['activity_flag'].value_counts(dropna=False)"
   ]
  },
  {
   "cell_type": "markdown",
   "metadata": {},
   "source": [
    "#### New df excluding low activity customers"
   ]
  },
  {
   "cell_type": "code",
   "execution_count": 13,
   "metadata": {},
   "outputs": [],
   "source": [
    "df_active = df[df['activity_flag'] == 'regular_activity']"
   ]
  },
  {
   "cell_type": "code",
   "execution_count": 14,
   "metadata": {},
   "outputs": [
    {
     "name": "stdout",
     "output_type": "stream",
     "text": [
      "<class 'pandas.core.frame.DataFrame'>\n",
      "Int64Index: 24414876 entries, 4 to 32404854\n",
      "Data columns (total 31 columns):\n",
      " #   Column                  Dtype   \n",
      "---  ------                  -----   \n",
      " 0   order_id                int64   \n",
      " 1   user_id                 int64   \n",
      " 2   order_number            int64   \n",
      " 3   orders_day_of_the_week  uint16  \n",
      " 4   order_hour_of_day       uint16  \n",
      " 5   days_since_last_order   float64 \n",
      " 6   product_id              int64   \n",
      " 7   add_to_cart_order       int16   \n",
      " 8   product_name            category\n",
      " 9   aisle_id                int16   \n",
      " 10  department_id           uint16  \n",
      " 11  prices                  int32   \n",
      " 12  price_range_loc         category\n",
      " 13  busiest day             category\n",
      " 14  busiest_days            category\n",
      " 15  busiest_period_of_day   category\n",
      " 16  max_order               int16   \n",
      " 17  loyalty_flag            category\n",
      " 18  mean_spend              float16 \n",
      " 19  spend_flag              category\n",
      " 20  order_freq              uint16  \n",
      " 21  order_freq_flag         object  \n",
      " 22  gender                  object  \n",
      " 23  state                   object  \n",
      " 24  age                     int64   \n",
      " 25  date_joined             object  \n",
      " 26  n_dependants            int64   \n",
      " 27  fam_status              category\n",
      " 28  income                  int64   \n",
      " 29  region                  category\n",
      " 30  activity_flag           object  \n",
      "dtypes: category(9), float16(1), float64(1), int16(3), int32(1), int64(7), object(5), uint16(4)\n",
      "memory usage: 3.3+ GB\n"
     ]
    }
   ],
   "source": [
    "df_active.info()"
   ]
  },
  {
   "cell_type": "code",
   "execution_count": 16,
   "metadata": {},
   "outputs": [
    {
     "data": {
      "text/plain": [
       "regular_activity    24414876\n",
       "Name: activity_flag, dtype: int64"
      ]
     },
     "execution_count": 16,
     "metadata": {},
     "output_type": "execute_result"
    }
   ],
   "source": [
    "df_active['activity_flag'].value_counts(dropna=False)"
   ]
  },
  {
   "cell_type": "markdown",
   "metadata": {},
   "source": [
    "#### Exporting df_active"
   ]
  },
  {
   "cell_type": "code",
   "execution_count": 17,
   "metadata": {},
   "outputs": [],
   "source": [
    "df_active.to_pickle(os.path.join(path, '02 Data', 'Prepared Data', 'Active Cust only.pkl'))"
   ]
  },
  {
   "cell_type": "code",
   "execution_count": null,
   "metadata": {},
   "outputs": [],
   "source": []
  }
 ],
 "metadata": {
  "kernelspec": {
   "display_name": "Python 3",
   "language": "python",
   "name": "python3"
  },
  "language_info": {
   "codemirror_mode": {
    "name": "ipython",
    "version": 3
   },
   "file_extension": ".py",
   "mimetype": "text/x-python",
   "name": "python",
   "nbconvert_exporter": "python",
   "pygments_lexer": "ipython3",
   "version": "3.8.5"
  }
 },
 "nbformat": 4,
 "nbformat_minor": 4
}

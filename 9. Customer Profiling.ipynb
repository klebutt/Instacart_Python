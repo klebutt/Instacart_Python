{
 "cells": [
  {
   "cell_type": "markdown",
   "metadata": {},
   "source": [
    "### Contents\n",
    "- Import active cust df\n",
    "- Import departments df\n",
    "- Split df in to multiple df's by fam_status\n",
    "- N_dependants for each fam type\n",
    "- Income for each fam type\n",
    "- Summary so far..\n",
    "- Aggregate mean order_number grouped by department id for each fam type\n",
    "- Age stats of family types\n",
    "- Defining customer profiles\n",
    "- Merging df's\n",
    "- Visualizations\n",
    "- Q7 - max, min, mean stats\n",
    "- Q8 - Comparing regions and profiles"
   ]
  },
  {
   "cell_type": "code",
   "execution_count": 1,
   "metadata": {},
   "outputs": [],
   "source": [
    "import pandas as pd\n",
    "import numpy as np\n",
    "import os\n",
    "import seaborn as sns\n",
    "import scipy\n",
    "import matplotlib.pyplot as plt"
   ]
  },
  {
   "cell_type": "code",
   "execution_count": 2,
   "metadata": {},
   "outputs": [],
   "source": [
    "path = r\"C:\\Users\\Kieran\\Documents\\Career Foundry\\Data Immersion\\4.0 Python\\Instacart Basket Analysis\""
   ]
  },
  {
   "cell_type": "markdown",
   "metadata": {},
   "source": [
    "### Import active customer only df"
   ]
  },
  {
   "cell_type": "code",
   "execution_count": 3,
   "metadata": {},
   "outputs": [],
   "source": [
    "df = pd.read_pickle(os.path.join(path, '02 Data', 'Prepared Data', 'Active Cust only.pkl'))"
   ]
  },
  {
   "cell_type": "code",
   "execution_count": 4,
   "metadata": {},
   "outputs": [
    {
     "data": {
      "text/plain": [
       "Index(['order_id', 'user_id', 'order_number', 'orders_day_of_the_week',\n",
       "       'order_hour_of_day', 'days_since_last_order', 'product_id',\n",
       "       'add_to_cart_order', 'product_name', 'aisle_id', 'department_id',\n",
       "       'prices', 'price_range_loc', 'busiest day', 'busiest_days',\n",
       "       'busiest_period_of_day', 'max_order', 'loyalty_flag', 'mean_spend',\n",
       "       'spend_flag', 'order_freq', 'order_freq_flag', 'gender', 'state', 'age',\n",
       "       'date_joined', 'n_dependants', 'fam_status', 'income', 'region',\n",
       "       'activity_flag'],\n",
       "      dtype='object')"
      ]
     },
     "execution_count": 4,
     "metadata": {},
     "output_type": "execute_result"
    }
   ],
   "source": [
    "df.columns"
   ]
  },
  {
   "cell_type": "code",
   "execution_count": 5,
   "metadata": {
    "scrolled": true
   },
   "outputs": [
    {
     "data": {
      "text/html": [
       "<div>\n",
       "<style scoped>\n",
       "    .dataframe tbody tr th:only-of-type {\n",
       "        vertical-align: middle;\n",
       "    }\n",
       "\n",
       "    .dataframe tbody tr th {\n",
       "        vertical-align: top;\n",
       "    }\n",
       "\n",
       "    .dataframe thead th {\n",
       "        text-align: right;\n",
       "    }\n",
       "</style>\n",
       "<table border=\"1\" class=\"dataframe\">\n",
       "  <thead>\n",
       "    <tr style=\"text-align: right;\">\n",
       "      <th></th>\n",
       "      <th>order_id</th>\n",
       "      <th>user_id</th>\n",
       "      <th>order_number</th>\n",
       "      <th>orders_day_of_the_week</th>\n",
       "      <th>order_hour_of_day</th>\n",
       "      <th>days_since_last_order</th>\n",
       "      <th>product_id</th>\n",
       "      <th>add_to_cart_order</th>\n",
       "      <th>product_name</th>\n",
       "      <th>aisle_id</th>\n",
       "      <th>...</th>\n",
       "      <th>order_freq_flag</th>\n",
       "      <th>gender</th>\n",
       "      <th>state</th>\n",
       "      <th>age</th>\n",
       "      <th>date_joined</th>\n",
       "      <th>n_dependants</th>\n",
       "      <th>fam_status</th>\n",
       "      <th>income</th>\n",
       "      <th>region</th>\n",
       "      <th>activity_flag</th>\n",
       "    </tr>\n",
       "  </thead>\n",
       "  <tbody>\n",
       "    <tr>\n",
       "      <th>4</th>\n",
       "      <td>431534</td>\n",
       "      <td>1</td>\n",
       "      <td>5</td>\n",
       "      <td>4</td>\n",
       "      <td>15</td>\n",
       "      <td>28.0</td>\n",
       "      <td>196</td>\n",
       "      <td>1</td>\n",
       "      <td>Soda</td>\n",
       "      <td>77</td>\n",
       "      <td>...</td>\n",
       "      <td>Regular customer</td>\n",
       "      <td>Female</td>\n",
       "      <td>Alabama</td>\n",
       "      <td>31</td>\n",
       "      <td>2/17/2019</td>\n",
       "      <td>3</td>\n",
       "      <td>married</td>\n",
       "      <td>40423</td>\n",
       "      <td>South</td>\n",
       "      <td>regular_activity</td>\n",
       "    </tr>\n",
       "    <tr>\n",
       "      <th>5</th>\n",
       "      <td>3367565</td>\n",
       "      <td>1</td>\n",
       "      <td>6</td>\n",
       "      <td>2</td>\n",
       "      <td>7</td>\n",
       "      <td>19.0</td>\n",
       "      <td>196</td>\n",
       "      <td>1</td>\n",
       "      <td>Soda</td>\n",
       "      <td>77</td>\n",
       "      <td>...</td>\n",
       "      <td>Regular customer</td>\n",
       "      <td>Female</td>\n",
       "      <td>Alabama</td>\n",
       "      <td>31</td>\n",
       "      <td>2/17/2019</td>\n",
       "      <td>3</td>\n",
       "      <td>married</td>\n",
       "      <td>40423</td>\n",
       "      <td>South</td>\n",
       "      <td>regular_activity</td>\n",
       "    </tr>\n",
       "    <tr>\n",
       "      <th>6</th>\n",
       "      <td>550135</td>\n",
       "      <td>1</td>\n",
       "      <td>7</td>\n",
       "      <td>1</td>\n",
       "      <td>9</td>\n",
       "      <td>20.0</td>\n",
       "      <td>196</td>\n",
       "      <td>1</td>\n",
       "      <td>Soda</td>\n",
       "      <td>77</td>\n",
       "      <td>...</td>\n",
       "      <td>Regular customer</td>\n",
       "      <td>Female</td>\n",
       "      <td>Alabama</td>\n",
       "      <td>31</td>\n",
       "      <td>2/17/2019</td>\n",
       "      <td>3</td>\n",
       "      <td>married</td>\n",
       "      <td>40423</td>\n",
       "      <td>South</td>\n",
       "      <td>regular_activity</td>\n",
       "    </tr>\n",
       "    <tr>\n",
       "      <th>7</th>\n",
       "      <td>3108588</td>\n",
       "      <td>1</td>\n",
       "      <td>8</td>\n",
       "      <td>1</td>\n",
       "      <td>14</td>\n",
       "      <td>14.0</td>\n",
       "      <td>196</td>\n",
       "      <td>2</td>\n",
       "      <td>Soda</td>\n",
       "      <td>77</td>\n",
       "      <td>...</td>\n",
       "      <td>Regular customer</td>\n",
       "      <td>Female</td>\n",
       "      <td>Alabama</td>\n",
       "      <td>31</td>\n",
       "      <td>2/17/2019</td>\n",
       "      <td>3</td>\n",
       "      <td>married</td>\n",
       "      <td>40423</td>\n",
       "      <td>South</td>\n",
       "      <td>regular_activity</td>\n",
       "    </tr>\n",
       "    <tr>\n",
       "      <th>8</th>\n",
       "      <td>2295261</td>\n",
       "      <td>1</td>\n",
       "      <td>9</td>\n",
       "      <td>1</td>\n",
       "      <td>16</td>\n",
       "      <td>0.0</td>\n",
       "      <td>196</td>\n",
       "      <td>4</td>\n",
       "      <td>Soda</td>\n",
       "      <td>77</td>\n",
       "      <td>...</td>\n",
       "      <td>Regular customer</td>\n",
       "      <td>Female</td>\n",
       "      <td>Alabama</td>\n",
       "      <td>31</td>\n",
       "      <td>2/17/2019</td>\n",
       "      <td>3</td>\n",
       "      <td>married</td>\n",
       "      <td>40423</td>\n",
       "      <td>South</td>\n",
       "      <td>regular_activity</td>\n",
       "    </tr>\n",
       "  </tbody>\n",
       "</table>\n",
       "<p>5 rows × 31 columns</p>\n",
       "</div>"
      ],
      "text/plain": [
       "   order_id  user_id  order_number  orders_day_of_the_week  order_hour_of_day  \\\n",
       "4    431534        1             5                       4                 15   \n",
       "5   3367565        1             6                       2                  7   \n",
       "6    550135        1             7                       1                  9   \n",
       "7   3108588        1             8                       1                 14   \n",
       "8   2295261        1             9                       1                 16   \n",
       "\n",
       "   days_since_last_order  product_id  add_to_cart_order product_name  \\\n",
       "4                   28.0         196                  1         Soda   \n",
       "5                   19.0         196                  1         Soda   \n",
       "6                   20.0         196                  1         Soda   \n",
       "7                   14.0         196                  2         Soda   \n",
       "8                    0.0         196                  4         Soda   \n",
       "\n",
       "   aisle_id  ...   order_freq_flag  gender    state age date_joined  \\\n",
       "4        77  ...  Regular customer  Female  Alabama  31   2/17/2019   \n",
       "5        77  ...  Regular customer  Female  Alabama  31   2/17/2019   \n",
       "6        77  ...  Regular customer  Female  Alabama  31   2/17/2019   \n",
       "7        77  ...  Regular customer  Female  Alabama  31   2/17/2019   \n",
       "8        77  ...  Regular customer  Female  Alabama  31   2/17/2019   \n",
       "\n",
       "  n_dependants  fam_status income  region     activity_flag  \n",
       "4            3     married  40423   South  regular_activity  \n",
       "5            3     married  40423   South  regular_activity  \n",
       "6            3     married  40423   South  regular_activity  \n",
       "7            3     married  40423   South  regular_activity  \n",
       "8            3     married  40423   South  regular_activity  \n",
       "\n",
       "[5 rows x 31 columns]"
      ]
     },
     "execution_count": 5,
     "metadata": {},
     "output_type": "execute_result"
    }
   ],
   "source": [
    "df.head()"
   ]
  },
  {
   "cell_type": "code",
   "execution_count": 6,
   "metadata": {},
   "outputs": [
    {
     "data": {
      "text/html": [
       "<div>\n",
       "<style scoped>\n",
       "    .dataframe tbody tr th:only-of-type {\n",
       "        vertical-align: middle;\n",
       "    }\n",
       "\n",
       "    .dataframe tbody tr th {\n",
       "        vertical-align: top;\n",
       "    }\n",
       "\n",
       "    .dataframe thead th {\n",
       "        text-align: right;\n",
       "    }\n",
       "</style>\n",
       "<table border=\"1\" class=\"dataframe\">\n",
       "  <thead>\n",
       "    <tr style=\"text-align: right;\">\n",
       "      <th></th>\n",
       "      <th>order_id</th>\n",
       "      <th>user_id</th>\n",
       "      <th>order_number</th>\n",
       "      <th>orders_day_of_the_week</th>\n",
       "      <th>order_hour_of_day</th>\n",
       "      <th>days_since_last_order</th>\n",
       "      <th>product_id</th>\n",
       "      <th>add_to_cart_order</th>\n",
       "      <th>aisle_id</th>\n",
       "      <th>department_id</th>\n",
       "      <th>prices</th>\n",
       "      <th>max_order</th>\n",
       "      <th>mean_spend</th>\n",
       "      <th>order_freq</th>\n",
       "      <th>age</th>\n",
       "      <th>n_dependants</th>\n",
       "      <th>income</th>\n",
       "    </tr>\n",
       "  </thead>\n",
       "  <tbody>\n",
       "    <tr>\n",
       "      <th>count</th>\n",
       "      <td>24414876.00000</td>\n",
       "      <td>24414876.00000</td>\n",
       "      <td>24414876.00000</td>\n",
       "      <td>24414876.00000</td>\n",
       "      <td>24414876.00000</td>\n",
       "      <td>24414876.00000</td>\n",
       "      <td>24414876.00000</td>\n",
       "      <td>24414876.00000</td>\n",
       "      <td>24414876.00000</td>\n",
       "      <td>24414876.00000</td>\n",
       "      <td>24414876.00000</td>\n",
       "      <td>24414876.00000</td>\n",
       "      <td>24414876.00000</td>\n",
       "      <td>24414876.00000</td>\n",
       "      <td>24414876.00000</td>\n",
       "      <td>24414876.00000</td>\n",
       "      <td>24414876.00000</td>\n",
       "    </tr>\n",
       "    <tr>\n",
       "      <th>mean</th>\n",
       "      <td>1710460.24578</td>\n",
       "      <td>102912.52305</td>\n",
       "      <td>21.94990</td>\n",
       "      <td>2.74795</td>\n",
       "      <td>13.36244</td>\n",
       "      <td>10.08523</td>\n",
       "      <td>25590.42620</td>\n",
       "      <td>8.37621</td>\n",
       "      <td>71.17743</td>\n",
       "      <td>9.92931</td>\n",
       "      <td>11.38687</td>\n",
       "      <td>38.48836</td>\n",
       "      <td>nan</td>\n",
       "      <td>8.50655</td>\n",
       "      <td>49.45734</td>\n",
       "      <td>1.50200</td>\n",
       "      <td>99895.04967</td>\n",
       "    </tr>\n",
       "    <tr>\n",
       "      <th>std</th>\n",
       "      <td>987271.05927</td>\n",
       "      <td>59467.26083</td>\n",
       "      <td>17.71938</td>\n",
       "      <td>2.08417</td>\n",
       "      <td>4.24734</td>\n",
       "      <td>8.14029</td>\n",
       "      <td>14076.28206</td>\n",
       "      <td>7.16177</td>\n",
       "      <td>38.23019</td>\n",
       "      <td>6.28267</td>\n",
       "      <td>487.37471</td>\n",
       "      <td>25.02275</td>\n",
       "      <td>nan</td>\n",
       "      <td>5.31457</td>\n",
       "      <td>18.48532</td>\n",
       "      <td>1.11917</td>\n",
       "      <td>43333.56597</td>\n",
       "    </tr>\n",
       "    <tr>\n",
       "      <th>min</th>\n",
       "      <td>3.00000</td>\n",
       "      <td>1.00000</td>\n",
       "      <td>5.00000</td>\n",
       "      <td>0.00000</td>\n",
       "      <td>0.00000</td>\n",
       "      <td>0.00000</td>\n",
       "      <td>1.00000</td>\n",
       "      <td>1.00000</td>\n",
       "      <td>1.00000</td>\n",
       "      <td>1.00000</td>\n",
       "      <td>1.00000</td>\n",
       "      <td>5.00000</td>\n",
       "      <td>1.00000</td>\n",
       "      <td>0.00000</td>\n",
       "      <td>18.00000</td>\n",
       "      <td>0.00000</td>\n",
       "      <td>25903.00000</td>\n",
       "    </tr>\n",
       "    <tr>\n",
       "      <th>25%</th>\n",
       "      <td>856214.00000</td>\n",
       "      <td>51380.00000</td>\n",
       "      <td>9.00000</td>\n",
       "      <td>1.00000</td>\n",
       "      <td>10.00000</td>\n",
       "      <td>4.00000</td>\n",
       "      <td>13535.00000</td>\n",
       "      <td>3.00000</td>\n",
       "      <td>31.00000</td>\n",
       "      <td>4.00000</td>\n",
       "      <td>4.00000</td>\n",
       "      <td>18.00000</td>\n",
       "      <td>6.95703</td>\n",
       "      <td>5.00000</td>\n",
       "      <td>33.00000</td>\n",
       "      <td>0.00000</td>\n",
       "      <td>67524.00000</td>\n",
       "    </tr>\n",
       "    <tr>\n",
       "      <th>50%</th>\n",
       "      <td>1710492.00000</td>\n",
       "      <td>102528.50000</td>\n",
       "      <td>16.00000</td>\n",
       "      <td>3.00000</td>\n",
       "      <td>13.00000</td>\n",
       "      <td>7.00000</td>\n",
       "      <td>25232.00000</td>\n",
       "      <td>6.00000</td>\n",
       "      <td>83.00000</td>\n",
       "      <td>9.00000</td>\n",
       "      <td>7.00000</td>\n",
       "      <td>33.00000</td>\n",
       "      <td>7.38281</td>\n",
       "      <td>7.00000</td>\n",
       "      <td>49.00000</td>\n",
       "      <td>2.00000</td>\n",
       "      <td>96836.00000</td>\n",
       "    </tr>\n",
       "    <tr>\n",
       "      <th>75%</th>\n",
       "      <td>2565431.00000</td>\n",
       "      <td>154337.00000</td>\n",
       "      <td>29.00000</td>\n",
       "      <td>5.00000</td>\n",
       "      <td>16.00000</td>\n",
       "      <td>13.00000</td>\n",
       "      <td>37935.00000</td>\n",
       "      <td>11.00000</td>\n",
       "      <td>107.00000</td>\n",
       "      <td>16.00000</td>\n",
       "      <td>11.00000</td>\n",
       "      <td>52.00000</td>\n",
       "      <td>7.79688</td>\n",
       "      <td>10.00000</td>\n",
       "      <td>65.00000</td>\n",
       "      <td>3.00000</td>\n",
       "      <td>128160.00000</td>\n",
       "    </tr>\n",
       "    <tr>\n",
       "      <th>max</th>\n",
       "      <td>3421083.00000</td>\n",
       "      <td>206209.00000</td>\n",
       "      <td>99.00000</td>\n",
       "      <td>6.00000</td>\n",
       "      <td>23.00000</td>\n",
       "      <td>30.00000</td>\n",
       "      <td>49688.00000</td>\n",
       "      <td>137.00000</td>\n",
       "      <td>134.00000</td>\n",
       "      <td>21.00000</td>\n",
       "      <td>99999.00000</td>\n",
       "      <td>99.00000</td>\n",
       "      <td>15008.00000</td>\n",
       "      <td>30.00000</td>\n",
       "      <td>81.00000</td>\n",
       "      <td>3.00000</td>\n",
       "      <td>593901.00000</td>\n",
       "    </tr>\n",
       "  </tbody>\n",
       "</table>\n",
       "</div>"
      ],
      "text/plain": [
       "             order_id         user_id    order_number orders_day_of_the_week  \\\n",
       "count  24414876.00000  24414876.00000  24414876.00000         24414876.00000   \n",
       "mean    1710460.24578    102912.52305        21.94990                2.74795   \n",
       "std      987271.05927     59467.26083        17.71938                2.08417   \n",
       "min           3.00000         1.00000         5.00000                0.00000   \n",
       "25%      856214.00000     51380.00000         9.00000                1.00000   \n",
       "50%     1710492.00000    102528.50000        16.00000                3.00000   \n",
       "75%     2565431.00000    154337.00000        29.00000                5.00000   \n",
       "max     3421083.00000    206209.00000        99.00000                6.00000   \n",
       "\n",
       "      order_hour_of_day days_since_last_order      product_id  \\\n",
       "count    24414876.00000        24414876.00000  24414876.00000   \n",
       "mean           13.36244              10.08523     25590.42620   \n",
       "std             4.24734               8.14029     14076.28206   \n",
       "min             0.00000               0.00000         1.00000   \n",
       "25%            10.00000               4.00000     13535.00000   \n",
       "50%            13.00000               7.00000     25232.00000   \n",
       "75%            16.00000              13.00000     37935.00000   \n",
       "max            23.00000              30.00000     49688.00000   \n",
       "\n",
       "      add_to_cart_order        aisle_id   department_id          prices  \\\n",
       "count    24414876.00000  24414876.00000  24414876.00000  24414876.00000   \n",
       "mean            8.37621        71.17743         9.92931        11.38687   \n",
       "std             7.16177        38.23019         6.28267       487.37471   \n",
       "min             1.00000         1.00000         1.00000         1.00000   \n",
       "25%             3.00000        31.00000         4.00000         4.00000   \n",
       "50%             6.00000        83.00000         9.00000         7.00000   \n",
       "75%            11.00000       107.00000        16.00000        11.00000   \n",
       "max           137.00000       134.00000        21.00000     99999.00000   \n",
       "\n",
       "            max_order      mean_spend      order_freq             age  \\\n",
       "count  24414876.00000  24414876.00000  24414876.00000  24414876.00000   \n",
       "mean         38.48836             nan         8.50655        49.45734   \n",
       "std          25.02275             nan         5.31457        18.48532   \n",
       "min           5.00000         1.00000         0.00000        18.00000   \n",
       "25%          18.00000         6.95703         5.00000        33.00000   \n",
       "50%          33.00000         7.38281         7.00000        49.00000   \n",
       "75%          52.00000         7.79688        10.00000        65.00000   \n",
       "max          99.00000     15008.00000        30.00000        81.00000   \n",
       "\n",
       "         n_dependants          income  \n",
       "count  24414876.00000  24414876.00000  \n",
       "mean          1.50200     99895.04967  \n",
       "std           1.11917     43333.56597  \n",
       "min           0.00000     25903.00000  \n",
       "25%           0.00000     67524.00000  \n",
       "50%           2.00000     96836.00000  \n",
       "75%           3.00000    128160.00000  \n",
       "max           3.00000    593901.00000  "
      ]
     },
     "execution_count": 6,
     "metadata": {},
     "output_type": "execute_result"
    }
   ],
   "source": [
    "# describe without scientific notation\n",
    "df.describe().apply(lambda s: s.apply('{0:.5f}'.format))"
   ]
  },
  {
   "cell_type": "code",
   "execution_count": 7,
   "metadata": {},
   "outputs": [
    {
     "data": {
      "text/plain": [
       "married                             17138475\n",
       "single                               4015790\n",
       "divorced/widowed                     2089212\n",
       "living with parents and siblings     1171399\n",
       "Name: fam_status, dtype: int64"
      ]
     },
     "execution_count": 7,
     "metadata": {},
     "output_type": "execute_result"
    }
   ],
   "source": [
    "df['fam_status'].value_counts(dropna=False)"
   ]
  },
  {
   "cell_type": "markdown",
   "metadata": {},
   "source": [
    "### Import departments dictionary"
   ]
  },
  {
   "cell_type": "code",
   "execution_count": 8,
   "metadata": {},
   "outputs": [],
   "source": [
    "df_dep = pd.read_csv(os.path.join(path, '02 Data', 'Prepared Data', 'Departments_wrangled.csv'))"
   ]
  },
  {
   "cell_type": "markdown",
   "metadata": {},
   "source": [
    "### Split df by fam_status \n",
    "Memory usage is high, so splitting df will speed up processing and simplyfy analysis"
   ]
  },
  {
   "cell_type": "code",
   "execution_count": 9,
   "metadata": {},
   "outputs": [],
   "source": [
    "df_married = df[df['fam_status'] == 'married']"
   ]
  },
  {
   "cell_type": "code",
   "execution_count": 10,
   "metadata": {},
   "outputs": [
    {
     "data": {
      "text/plain": [
       "married                             17138475\n",
       "single                                     0\n",
       "living with parents and siblings           0\n",
       "divorced/widowed                           0\n",
       "Name: fam_status, dtype: int64"
      ]
     },
     "execution_count": 10,
     "metadata": {},
     "output_type": "execute_result"
    }
   ],
   "source": [
    "df_married['fam_status'].value_counts(dropna=False)"
   ]
  },
  {
   "cell_type": "code",
   "execution_count": 11,
   "metadata": {},
   "outputs": [],
   "source": [
    "df_single = df[df['fam_status'] == 'single']"
   ]
  },
  {
   "cell_type": "code",
   "execution_count": 12,
   "metadata": {},
   "outputs": [
    {
     "data": {
      "text/plain": [
       "single                              4015790\n",
       "married                                   0\n",
       "living with parents and siblings          0\n",
       "divorced/widowed                          0\n",
       "Name: fam_status, dtype: int64"
      ]
     },
     "execution_count": 12,
     "metadata": {},
     "output_type": "execute_result"
    }
   ],
   "source": [
    "df_single['fam_status'].value_counts(dropna=False)"
   ]
  },
  {
   "cell_type": "code",
   "execution_count": 13,
   "metadata": {},
   "outputs": [],
   "source": [
    "df_divorce = df[df['fam_status'] == 'divorced/widowed']"
   ]
  },
  {
   "cell_type": "code",
   "execution_count": 14,
   "metadata": {},
   "outputs": [
    {
     "data": {
      "text/plain": [
       "divorced/widowed                    2089212\n",
       "single                                    0\n",
       "married                                   0\n",
       "living with parents and siblings          0\n",
       "Name: fam_status, dtype: int64"
      ]
     },
     "execution_count": 14,
     "metadata": {},
     "output_type": "execute_result"
    }
   ],
   "source": [
    "df_divorce['fam_status'].value_counts(dropna=False)"
   ]
  },
  {
   "cell_type": "code",
   "execution_count": 15,
   "metadata": {},
   "outputs": [],
   "source": [
    "df_kid = df[df['fam_status'] == 'living with parents and siblings']"
   ]
  },
  {
   "cell_type": "code",
   "execution_count": 16,
   "metadata": {
    "scrolled": true
   },
   "outputs": [
    {
     "data": {
      "text/plain": [
       "living with parents and siblings    1171399\n",
       "single                                    0\n",
       "married                                   0\n",
       "divorced/widowed                          0\n",
       "Name: fam_status, dtype: int64"
      ]
     },
     "execution_count": 16,
     "metadata": {},
     "output_type": "execute_result"
    }
   ],
   "source": [
    "df_kid['fam_status'].value_counts(dropna=False)"
   ]
  },
  {
   "cell_type": "markdown",
   "metadata": {},
   "source": [
    "### N_dependants for each fam type"
   ]
  },
  {
   "cell_type": "code",
   "execution_count": 17,
   "metadata": {},
   "outputs": [
    {
     "data": {
      "text/plain": [
       "0    4015790\n",
       "Name: n_dependants, dtype: int64"
      ]
     },
     "execution_count": 17,
     "metadata": {},
     "output_type": "execute_result"
    }
   ],
   "source": [
    "# no single cust has children\n",
    "df_single['n_dependants'].value_counts(dropna=False)"
   ]
  },
  {
   "cell_type": "code",
   "execution_count": 18,
   "metadata": {},
   "outputs": [
    {
     "data": {
      "text/plain": [
       "0    2089212\n",
       "Name: n_dependants, dtype: int64"
      ]
     },
     "execution_count": 18,
     "metadata": {},
     "output_type": "execute_result"
    }
   ],
   "source": [
    "# no divorced cust has children\n",
    "df_divorce['n_dependants'].value_counts(dropna=False)"
   ]
  },
  {
   "cell_type": "code",
   "execution_count": 19,
   "metadata": {},
   "outputs": [
    {
     "data": {
      "text/plain": [
       "1    403721\n",
       "3    386910\n",
       "2    380768\n",
       "Name: n_dependants, dtype: int64"
      ]
     },
     "execution_count": 19,
     "metadata": {},
     "output_type": "execute_result"
    }
   ],
   "source": [
    "df_kid['n_dependants'].value_counts(dropna=False)"
   ]
  },
  {
   "cell_type": "code",
   "execution_count": 20,
   "metadata": {},
   "outputs": [
    {
     "data": {
      "text/plain": [
       "3    5746626\n",
       "2    5713463\n",
       "1    5678386\n",
       "Name: n_dependants, dtype: int64"
      ]
     },
     "execution_count": 20,
     "metadata": {},
     "output_type": "execute_result"
    }
   ],
   "source": [
    "df_married['n_dependants'].value_counts(dropna=False)"
   ]
  },
  {
   "cell_type": "markdown",
   "metadata": {},
   "source": [
    "### Income stats for each fam type"
   ]
  },
  {
   "cell_type": "code",
   "execution_count": 21,
   "metadata": {},
   "outputs": [
    {
     "data": {
      "text/plain": [
       "count    4.015790e+06\n",
       "mean     9.183190e+04\n",
       "std      4.257449e+04\n",
       "min      2.590300e+04\n",
       "25%      6.214600e+04\n",
       "50%      8.574200e+04\n",
       "75%      1.138240e+05\n",
       "max      5.840970e+05\n",
       "Name: income, dtype: float64"
      ]
     },
     "execution_count": 21,
     "metadata": {},
     "output_type": "execute_result"
    }
   ],
   "source": [
    "df_single['income'].describe()"
   ]
  },
  {
   "cell_type": "code",
   "execution_count": 22,
   "metadata": {},
   "outputs": [
    {
     "data": {
      "text/plain": [
       "count    4015790.000000\n",
       "mean       91831.902332\n",
       "std        42574.492481\n",
       "min        25903.000000\n",
       "25%        62146.000000\n",
       "50%        85742.000000\n",
       "75%       113824.000000\n",
       "max       584097.000000\n",
       "Name: income, dtype: object"
      ]
     },
     "execution_count": 22,
     "metadata": {},
     "output_type": "execute_result"
    }
   ],
   "source": [
    "# without scientific notation\n",
    "df_single['income'].describe().apply(lambda x: format(x, 'f'))"
   ]
  },
  {
   "cell_type": "code",
   "execution_count": 23,
   "metadata": {},
   "outputs": [
    {
     "data": {
      "text/plain": [
       "count    17138475.000000\n",
       "mean       101761.553980\n",
       "std         43576.316122\n",
       "min         25911.000000\n",
       "25%         69111.000000\n",
       "50%         99093.000000\n",
       "75%        130675.000000\n",
       "max        593901.000000\n",
       "Name: income, dtype: object"
      ]
     },
     "execution_count": 23,
     "metadata": {},
     "output_type": "execute_result"
    }
   ],
   "source": [
    "df_married['income'].describe().apply(lambda x: format(x, 'f'))"
   ]
  },
  {
   "cell_type": "code",
   "execution_count": 24,
   "metadata": {},
   "outputs": [
    {
     "data": {
      "text/plain": [
       "count    2089212.000000\n",
       "mean      116225.054240\n",
       "std        40967.112313\n",
       "min        29011.000000\n",
       "25%        95975.000000\n",
       "50%       116264.000000\n",
       "75%       143285.000000\n",
       "max       578251.000000\n",
       "Name: income, dtype: object"
      ]
     },
     "execution_count": 24,
     "metadata": {},
     "output_type": "execute_result"
    }
   ],
   "source": [
    "df_divorce['income'].describe().apply(lambda x: format(x, 'f'))"
   ]
  },
  {
   "cell_type": "code",
   "execution_count": 25,
   "metadata": {},
   "outputs": [
    {
     "data": {
      "text/plain": [
       "count    1171399.000000\n",
       "mean       71103.858600\n",
       "std        23876.564898\n",
       "min        25937.000000\n",
       "25%        56439.000000\n",
       "50%        70184.000000\n",
       "75%        85013.000000\n",
       "max       396364.000000\n",
       "Name: income, dtype: object"
      ]
     },
     "execution_count": 25,
     "metadata": {},
     "output_type": "execute_result"
    }
   ],
   "source": [
    "df_kid['income'].describe().apply(lambda x: format(x, 'f'))"
   ]
  },
  {
   "cell_type": "markdown",
   "metadata": {},
   "source": [
    "### Summary so far..\n",
    "- Married family type are the most common - 17mil\n",
    "- Only married family types have dependants - max 3\n",
    "- Divorced family type have the highest average income - $116,225"
   ]
  },
  {
   "cell_type": "markdown",
   "metadata": {},
   "source": [
    "### Department/mean order_number"
   ]
  },
  {
   "cell_type": "code",
   "execution_count": 26,
   "metadata": {},
   "outputs": [],
   "source": [
    "# divorced df\n",
    "divorce_dep = df_divorce.groupby('department_id').agg({'order_number' : ['mean']})"
   ]
  },
  {
   "cell_type": "code",
   "execution_count": 27,
   "metadata": {},
   "outputs": [
    {
     "data": {
      "text/html": [
       "<div>\n",
       "<style scoped>\n",
       "    .dataframe tbody tr th:only-of-type {\n",
       "        vertical-align: middle;\n",
       "    }\n",
       "\n",
       "    .dataframe tbody tr th {\n",
       "        vertical-align: top;\n",
       "    }\n",
       "\n",
       "    .dataframe thead tr th {\n",
       "        text-align: left;\n",
       "    }\n",
       "\n",
       "    .dataframe thead tr:last-of-type th {\n",
       "        text-align: right;\n",
       "    }\n",
       "</style>\n",
       "<table border=\"1\" class=\"dataframe\">\n",
       "  <thead>\n",
       "    <tr>\n",
       "      <th></th>\n",
       "      <th>order_number</th>\n",
       "    </tr>\n",
       "    <tr>\n",
       "      <th></th>\n",
       "      <th>mean</th>\n",
       "    </tr>\n",
       "    <tr>\n",
       "      <th>department_id</th>\n",
       "      <th></th>\n",
       "    </tr>\n",
       "  </thead>\n",
       "  <tbody>\n",
       "    <tr>\n",
       "      <th>1</th>\n",
       "      <td>20.674919</td>\n",
       "    </tr>\n",
       "    <tr>\n",
       "      <th>2</th>\n",
       "      <td>22.480371</td>\n",
       "    </tr>\n",
       "    <tr>\n",
       "      <th>3</th>\n",
       "      <td>21.940056</td>\n",
       "    </tr>\n",
       "    <tr>\n",
       "      <th>4</th>\n",
       "      <td>22.791446</td>\n",
       "    </tr>\n",
       "    <tr>\n",
       "      <th>5</th>\n",
       "      <td>20.745188</td>\n",
       "    </tr>\n",
       "    <tr>\n",
       "      <th>6</th>\n",
       "      <td>21.536516</td>\n",
       "    </tr>\n",
       "    <tr>\n",
       "      <th>7</th>\n",
       "      <td>22.308358</td>\n",
       "    </tr>\n",
       "    <tr>\n",
       "      <th>8</th>\n",
       "      <td>20.612424</td>\n",
       "    </tr>\n",
       "    <tr>\n",
       "      <th>9</th>\n",
       "      <td>21.045520</td>\n",
       "    </tr>\n",
       "    <tr>\n",
       "      <th>10</th>\n",
       "      <td>25.443742</td>\n",
       "    </tr>\n",
       "    <tr>\n",
       "      <th>11</th>\n",
       "      <td>20.837915</td>\n",
       "    </tr>\n",
       "    <tr>\n",
       "      <th>12</th>\n",
       "      <td>20.607847</td>\n",
       "    </tr>\n",
       "    <tr>\n",
       "      <th>13</th>\n",
       "      <td>21.891383</td>\n",
       "    </tr>\n",
       "    <tr>\n",
       "      <th>14</th>\n",
       "      <td>22.052866</td>\n",
       "    </tr>\n",
       "    <tr>\n",
       "      <th>15</th>\n",
       "      <td>21.110649</td>\n",
       "    </tr>\n",
       "    <tr>\n",
       "      <th>16</th>\n",
       "      <td>22.348912</td>\n",
       "    </tr>\n",
       "    <tr>\n",
       "      <th>17</th>\n",
       "      <td>20.610410</td>\n",
       "    </tr>\n",
       "    <tr>\n",
       "      <th>18</th>\n",
       "      <td>23.727669</td>\n",
       "    </tr>\n",
       "    <tr>\n",
       "      <th>19</th>\n",
       "      <td>22.224295</td>\n",
       "    </tr>\n",
       "    <tr>\n",
       "      <th>20</th>\n",
       "      <td>21.476268</td>\n",
       "    </tr>\n",
       "    <tr>\n",
       "      <th>21</th>\n",
       "      <td>25.609226</td>\n",
       "    </tr>\n",
       "  </tbody>\n",
       "</table>\n",
       "</div>"
      ],
      "text/plain": [
       "              order_number\n",
       "                      mean\n",
       "department_id             \n",
       "1                20.674919\n",
       "2                22.480371\n",
       "3                21.940056\n",
       "4                22.791446\n",
       "5                20.745188\n",
       "6                21.536516\n",
       "7                22.308358\n",
       "8                20.612424\n",
       "9                21.045520\n",
       "10               25.443742\n",
       "11               20.837915\n",
       "12               20.607847\n",
       "13               21.891383\n",
       "14               22.052866\n",
       "15               21.110649\n",
       "16               22.348912\n",
       "17               20.610410\n",
       "18               23.727669\n",
       "19               22.224295\n",
       "20               21.476268\n",
       "21               25.609226"
      ]
     },
     "execution_count": 27,
     "metadata": {},
     "output_type": "execute_result"
    }
   ],
   "source": [
    "divorce_dep"
   ]
  },
  {
   "cell_type": "code",
   "execution_count": 28,
   "metadata": {},
   "outputs": [],
   "source": [
    "df_dep.reset_index(inplace = True)"
   ]
  },
  {
   "cell_type": "code",
   "execution_count": 29,
   "metadata": {},
   "outputs": [
    {
     "data": {
      "text/html": [
       "<div>\n",
       "<style scoped>\n",
       "    .dataframe tbody tr th:only-of-type {\n",
       "        vertical-align: middle;\n",
       "    }\n",
       "\n",
       "    .dataframe tbody tr th {\n",
       "        vertical-align: top;\n",
       "    }\n",
       "\n",
       "    .dataframe thead th {\n",
       "        text-align: right;\n",
       "    }\n",
       "</style>\n",
       "<table border=\"1\" class=\"dataframe\">\n",
       "  <thead>\n",
       "    <tr style=\"text-align: right;\">\n",
       "      <th></th>\n",
       "      <th>Unnamed: 0</th>\n",
       "      <th>department</th>\n",
       "    </tr>\n",
       "  </thead>\n",
       "  <tbody>\n",
       "    <tr>\n",
       "      <th>0</th>\n",
       "      <td>1</td>\n",
       "      <td>frozen</td>\n",
       "    </tr>\n",
       "    <tr>\n",
       "      <th>1</th>\n",
       "      <td>2</td>\n",
       "      <td>other</td>\n",
       "    </tr>\n",
       "    <tr>\n",
       "      <th>2</th>\n",
       "      <td>3</td>\n",
       "      <td>bakery</td>\n",
       "    </tr>\n",
       "    <tr>\n",
       "      <th>3</th>\n",
       "      <td>4</td>\n",
       "      <td>produce</td>\n",
       "    </tr>\n",
       "    <tr>\n",
       "      <th>4</th>\n",
       "      <td>5</td>\n",
       "      <td>alcohol</td>\n",
       "    </tr>\n",
       "    <tr>\n",
       "      <th>5</th>\n",
       "      <td>6</td>\n",
       "      <td>international</td>\n",
       "    </tr>\n",
       "    <tr>\n",
       "      <th>6</th>\n",
       "      <td>7</td>\n",
       "      <td>beverages</td>\n",
       "    </tr>\n",
       "    <tr>\n",
       "      <th>7</th>\n",
       "      <td>8</td>\n",
       "      <td>pets</td>\n",
       "    </tr>\n",
       "    <tr>\n",
       "      <th>8</th>\n",
       "      <td>9</td>\n",
       "      <td>dry goods pasta</td>\n",
       "    </tr>\n",
       "    <tr>\n",
       "      <th>9</th>\n",
       "      <td>10</td>\n",
       "      <td>bulk</td>\n",
       "    </tr>\n",
       "    <tr>\n",
       "      <th>10</th>\n",
       "      <td>11</td>\n",
       "      <td>personal care</td>\n",
       "    </tr>\n",
       "    <tr>\n",
       "      <th>11</th>\n",
       "      <td>12</td>\n",
       "      <td>meat seafood</td>\n",
       "    </tr>\n",
       "    <tr>\n",
       "      <th>12</th>\n",
       "      <td>13</td>\n",
       "      <td>pantry</td>\n",
       "    </tr>\n",
       "    <tr>\n",
       "      <th>13</th>\n",
       "      <td>14</td>\n",
       "      <td>breakfast</td>\n",
       "    </tr>\n",
       "    <tr>\n",
       "      <th>14</th>\n",
       "      <td>15</td>\n",
       "      <td>canned goods</td>\n",
       "    </tr>\n",
       "    <tr>\n",
       "      <th>15</th>\n",
       "      <td>16</td>\n",
       "      <td>dairy eggs</td>\n",
       "    </tr>\n",
       "    <tr>\n",
       "      <th>16</th>\n",
       "      <td>17</td>\n",
       "      <td>household</td>\n",
       "    </tr>\n",
       "    <tr>\n",
       "      <th>17</th>\n",
       "      <td>18</td>\n",
       "      <td>babies</td>\n",
       "    </tr>\n",
       "    <tr>\n",
       "      <th>18</th>\n",
       "      <td>19</td>\n",
       "      <td>snacks</td>\n",
       "    </tr>\n",
       "    <tr>\n",
       "      <th>19</th>\n",
       "      <td>20</td>\n",
       "      <td>deli</td>\n",
       "    </tr>\n",
       "    <tr>\n",
       "      <th>20</th>\n",
       "      <td>21</td>\n",
       "      <td>missing</td>\n",
       "    </tr>\n",
       "  </tbody>\n",
       "</table>\n",
       "</div>"
      ],
      "text/plain": [
       "    Unnamed: 0       department\n",
       "0            1           frozen\n",
       "1            2            other\n",
       "2            3           bakery\n",
       "3            4          produce\n",
       "4            5          alcohol\n",
       "5            6    international\n",
       "6            7        beverages\n",
       "7            8             pets\n",
       "8            9  dry goods pasta\n",
       "9           10             bulk\n",
       "10          11    personal care\n",
       "11          12     meat seafood\n",
       "12          13           pantry\n",
       "13          14        breakfast\n",
       "14          15     canned goods\n",
       "15          16       dairy eggs\n",
       "16          17        household\n",
       "17          18           babies\n",
       "18          19           snacks\n",
       "19          20             deli\n",
       "20          21          missing"
      ]
     },
     "execution_count": 29,
     "metadata": {},
     "output_type": "execute_result"
    }
   ],
   "source": [
    "df_dep.drop(columns='index')"
   ]
  },
  {
   "cell_type": "code",
   "execution_count": 30,
   "metadata": {},
   "outputs": [
    {
     "data": {
      "text/plain": [
       "<AxesSubplot:xlabel='department_id'>"
      ]
     },
     "execution_count": 30,
     "metadata": {},
     "output_type": "execute_result"
    },
    {
     "data": {
      "image/png": "[encoded data removed]",
      "text/plain": [
       "<Figure size 432x288 with 1 Axes>"
      ]
     },
     "metadata": {
      "needs_background": "light"
     },
     "output_type": "display_data"
    }
   ],
   "source": [
    "divorce_dep.plot.bar()"
   ]
  },
  {
   "cell_type": "code",
   "execution_count": 31,
   "metadata": {},
   "outputs": [],
   "source": [
    "# married df\n",
    "married_dep = df_married.groupby('department_id').agg({'order_number' : ['mean']})"
   ]
  },
  {
   "cell_type": "code",
   "execution_count": 32,
   "metadata": {},
   "outputs": [
    {
     "data": {
      "text/plain": [
       "<AxesSubplot:xlabel='department_id'>"
      ]
     },
     "execution_count": 32,
     "metadata": {},
     "output_type": "execute_result"
    },
    {
     "data": {
      "image/png": "[encoded data removed]",
      "text/plain": [
       "<Figure size 432x288 with 1 Axes>"
      ]
     },
     "metadata": {
      "needs_background": "light"
     },
     "output_type": "display_data"
    }
   ],
   "source": [
    "married_dep.plot.bar()"
   ]
  },
  {
   "cell_type": "code",
   "execution_count": 33,
   "metadata": {},
   "outputs": [],
   "source": [
    "# single df\n",
    "single_dep = df_single.groupby('department_id').agg({'order_number' : ['mean']})"
   ]
  },
  {
   "cell_type": "code",
   "execution_count": 34,
   "metadata": {},
   "outputs": [
    {
     "data": {
      "text/plain": [
       "<AxesSubplot:xlabel='department_id'>"
      ]
     },
     "execution_count": 34,
     "metadata": {},
     "output_type": "execute_result"
    },
    {
     "data": {
      "image/png": "[encoded data removed]",
      "text/plain": [
       "<Figure size 432x288 with 1 Axes>"
      ]
     },
     "metadata": {
      "needs_background": "light"
     },
     "output_type": "display_data"
    }
   ],
   "source": [
    "single_dep.plot.bar()"
   ]
  },
  {
   "cell_type": "code",
   "execution_count": 35,
   "metadata": {},
   "outputs": [],
   "source": [
    "# kid df\n",
    "kid_dep = df_kid.groupby('department_id').agg({'order_number' : ['mean']})"
   ]
  },
  {
   "cell_type": "code",
   "execution_count": 36,
   "metadata": {},
   "outputs": [
    {
     "data": {
      "text/plain": [
       "<AxesSubplot:xlabel='department_id'>"
      ]
     },
     "execution_count": 36,
     "metadata": {},
     "output_type": "execute_result"
    },
    {
     "data": {
      "image/png": "[encoded data removed]",
      "text/plain": [
       "<Figure size 432x288 with 1 Axes>"
      ]
     },
     "metadata": {
      "needs_background": "light"
     },
     "output_type": "display_data"
    }
   ],
   "source": [
    "kid_dep.plot.bar()"
   ]
  },
  {
   "cell_type": "markdown",
   "metadata": {},
   "source": [
    "### Age stats of family types"
   ]
  },
  {
   "cell_type": "code",
   "execution_count": 38,
   "metadata": {},
   "outputs": [
    {
     "data": {
      "text/plain": [
       "count    4015790.000000\n",
       "mean          38.642756\n",
       "std           12.135874\n",
       "min           18.000000\n",
       "25%           28.000000\n",
       "50%           39.000000\n",
       "75%           49.000000\n",
       "max           59.000000\n",
       "Name: age, dtype: object"
      ]
     },
     "execution_count": 38,
     "metadata": {},
     "output_type": "execute_result"
    }
   ],
   "source": [
    "df_single['age'].describe().apply(lambda x: format(x, 'f'))"
   ]
  },
  {
   "cell_type": "code",
   "execution_count": 39,
   "metadata": {},
   "outputs": [
    {
     "data": {
      "text/plain": [
       "count    17138475.000000\n",
       "mean           51.472643\n",
       "std            17.331494\n",
       "min            22.000000\n",
       "25%            36.000000\n",
       "50%            51.000000\n",
       "75%            67.000000\n",
       "max            81.000000\n",
       "Name: age, dtype: object"
      ]
     },
     "execution_count": 39,
     "metadata": {},
     "output_type": "execute_result"
    }
   ],
   "source": [
    "df_married['age'].describe().apply(lambda x: format(x, 'f'))"
   ]
  },
  {
   "cell_type": "code",
   "execution_count": 40,
   "metadata": {},
   "outputs": [
    {
     "data": {
      "text/plain": [
       "count    2089212.000000\n",
       "mean          70.507286\n",
       "std            6.406543\n",
       "min           60.000000\n",
       "25%           65.000000\n",
       "50%           71.000000\n",
       "75%           76.000000\n",
       "max           81.000000\n",
       "Name: age, dtype: object"
      ]
     },
     "execution_count": 40,
     "metadata": {},
     "output_type": "execute_result"
    }
   ],
   "source": [
    "df_divorce['age'].describe().apply(lambda x: format(x, 'f'))"
   ]
  },
  {
   "cell_type": "code",
   "execution_count": 41,
   "metadata": {},
   "outputs": [
    {
     "data": {
      "text/plain": [
       "count    1171399.000000\n",
       "mean          19.503438\n",
       "std            1.112696\n",
       "min           18.000000\n",
       "25%           19.000000\n",
       "50%           19.000000\n",
       "75%           21.000000\n",
       "max           21.000000\n",
       "Name: age, dtype: object"
      ]
     },
     "execution_count": 41,
     "metadata": {},
     "output_type": "execute_result"
    }
   ],
   "source": [
    "df_kid['age'].describe().apply(lambda x: format(x, 'f'))"
   ]
  },
  {
   "cell_type": "markdown",
   "metadata": {},
   "source": [
    "## Defining customer profiles\n",
    "Based on the exploratory analysis I have done so far I will define four customer profiles.  \n",
    "Customer A = (wealthy family) = Income > 130,000, N_dependants > 0  \n",
    "Customer B = (wealthy single) = Income > 130,000, N_dependants = 0  \n",
    "Customer C = (young family) = Age < 36, N_dependants > 0  \n",
    "Customer D = (young single) = Age < 36, N_dependants = 0"
   ]
  },
  {
   "cell_type": "markdown",
   "metadata": {},
   "source": [
    "I will check to see if there are customers who could fall in to profile of Customer A and Customer C:"
   ]
  },
  {
   "cell_type": "code",
   "execution_count": 47,
   "metadata": {},
   "outputs": [],
   "source": [
    "df_A = df[(df['income'] > 130000) & (df['n_dependants'] > 0)]"
   ]
  },
  {
   "cell_type": "code",
   "execution_count": 48,
   "metadata": {},
   "outputs": [
    {
     "data": {
      "text/plain": [
       "48    118896\n",
       "69    116551\n",
       "64    116427\n",
       "42    115569\n",
       "50    112010\n",
       "       ...  \n",
       "22      2464\n",
       "37      2360\n",
       "23      2266\n",
       "32      2206\n",
       "30      1543\n",
       "Name: age, Length: 64, dtype: int64"
      ]
     },
     "execution_count": 48,
     "metadata": {},
     "output_type": "execute_result"
    }
   ],
   "source": [
    "# Checking the ages of these customers:\n",
    "df_A['age'].value_counts(dropna=False)"
   ]
  },
  {
   "cell_type": "markdown",
   "metadata": {},
   "source": [
    "There are customers who will fall in to profile A and C, who are wealthy AND young. "
   ]
  },
  {
   "cell_type": "markdown",
   "metadata": {},
   "source": [
    "I will now check to see if there are customers who could fall in to profile of Customer B and D:"
   ]
  },
  {
   "cell_type": "code",
   "execution_count": 50,
   "metadata": {},
   "outputs": [],
   "source": [
    "df_B = df[(df['income'] > 130000) & (df['n_dependants'] == 0)]"
   ]
  },
  {
   "cell_type": "code",
   "execution_count": 51,
   "metadata": {},
   "outputs": [
    {
     "data": {
      "text/plain": [
       "57    44362\n",
       "61    43993\n",
       "58    42117\n",
       "46    41660\n",
       "53    40852\n",
       "      ...  \n",
       "37      471\n",
       "28      442\n",
       "27      247\n",
       "25      202\n",
       "38      108\n",
       "Name: age, Length: 64, dtype: int64"
      ]
     },
     "execution_count": 51,
     "metadata": {},
     "output_type": "execute_result"
    }
   ],
   "source": [
    "# checking the ages of these customers:\n",
    "df_B['age'].value_counts(dropna=False)"
   ]
  },
  {
   "cell_type": "markdown",
   "metadata": {},
   "source": [
    "There are customers who will fall in to profile B and D, who are single AND wealthy."
   ]
  },
  {
   "cell_type": "markdown",
   "metadata": {},
   "source": [
    "## Adjusting profiles\n",
    "I will adjust the profiles so there is no overlap between customers.  \n",
    "\n",
    "Customer A = (wealthy family, aged over 36) = Income > 130,000, N_dependants > 0, Age > 36.  \n",
    "Customer B = (wealthy family, aged under 36) = Income > 130,000, N_dependants > 0, Age < 36.   \n",
    "Customer C = (young family) = Age < 36, Income < 130,000,  N_dependants > 0.  \n",
    "Customer D = (regular family) = Age >= 36, Income <= 130,000, N_dependants > 0.  \n",
    "Customer E = (wealthy single, aged over 36) = Income > 130,000, N_dependants = 0, Age > 36.  \n",
    "Customer F = (wealthy single, aged under 36) = Income > 130,000, N_dependants = 0, Age < 36.  \n",
    "Customer G = (young single) = Age < 36, Income < 130,000, N_dependants = 0.  \n",
    "Customer H = (regular single) = Age >= 36, Income <= 130,000, N_dependants = 0.\n"
   ]
  },
  {
   "cell_type": "markdown",
   "metadata": {},
   "source": [
    "Now I can define a function that will create a customer profile flag based on these criteria."
   ]
  },
  {
   "cell_type": "markdown",
   "metadata": {},
   "source": [
    "I will create a df for customers with dependants to reduce memory usage when applying the function:"
   ]
  },
  {
   "cell_type": "code",
   "execution_count": 52,
   "metadata": {},
   "outputs": [],
   "source": [
    "df_dependants = df[df['n_dependants'] > 0]"
   ]
  },
  {
   "cell_type": "markdown",
   "metadata": {},
   "source": [
    "I will create a  df for customers with no dependants to reduce memory usage when applying the function:"
   ]
  },
  {
   "cell_type": "code",
   "execution_count": 54,
   "metadata": {},
   "outputs": [],
   "source": [
    "df_nodependants = df[df['n_dependants'] == 0]"
   ]
  },
  {
   "cell_type": "markdown",
   "metadata": {},
   "source": [
    "I will now create a function which I will apply to df_dependants. This function will assign a profile to each customer; either Customer profile A, B, C or D."
   ]
  },
  {
   "cell_type": "code",
   "execution_count": 65,
   "metadata": {},
   "outputs": [],
   "source": [
    "def depen(row):\n",
    "    if (row['income'] > 130000) and (row['age'] > 36):\n",
    "        return 'A'\n",
    "    elif (row['income'] > 130000) and (row['age'] < 36):\n",
    "        return 'B'\n",
    "    elif (row['income'] < 130000) and (row['age'] < 36):\n",
    "        return 'C'\n",
    "    elif (row['income'] <= 130000) and (row['age'] >= 36):\n",
    "        return 'D'\n",
    "    else: return np.nan"
   ]
  },
  {
   "cell_type": "markdown",
   "metadata": {},
   "source": [
    "Applying function to df_dependants:"
   ]
  },
  {
   "cell_type": "code",
   "execution_count": 66,
   "metadata": {},
   "outputs": [
    {
     "name": "stderr",
     "output_type": "stream",
     "text": [
      "<ipython-input-66-22487472b63e>:1: SettingWithCopyWarning: \n",
      "A value is trying to be set on a copy of a slice from a DataFrame.\n",
      "Try using .loc[row_indexer,col_indexer] = value instead\n",
      "\n",
      "See the caveats in the documentation: https://pandas.pydata.org/pandas-docs/stable/user_guide/indexing.html#returning-a-view-versus-a-copy\n",
      "  df_dependants['customer_profile'] = df_dependants.apply(depen, axis=1)\n"
     ]
    }
   ],
   "source": [
    "df_dependants['customer_profile'] = df_dependants.apply(depen, axis=1)"
   ]
  },
  {
   "cell_type": "code",
   "execution_count": 79,
   "metadata": {},
   "outputs": [
    {
     "data": {
      "text/plain": [
       "D    8828696\n",
       "C    5119068\n",
       "A    4296308\n",
       "B      62442\n",
       "Name: customer_profile, dtype: int64"
      ]
     },
     "execution_count": 79,
     "metadata": {},
     "output_type": "execute_result"
    }
   ],
   "source": [
    "df_dependants['customer_profile'].value_counts()"
   ]
  },
  {
   "cell_type": "code",
   "execution_count": 80,
   "metadata": {},
   "outputs": [
    {
     "data": {
      "text/plain": [
       "(18309874, 32)"
      ]
     },
     "execution_count": 80,
     "metadata": {},
     "output_type": "execute_result"
    }
   ],
   "source": [
    "df_dependants.shape"
   ]
  },
  {
   "cell_type": "markdown",
   "metadata": {},
   "source": [
    "I will now create a function to apply to df_nodependants. This function will assign a profile to each customer, either profile E, F, G or H."
   ]
  },
  {
   "cell_type": "code",
   "execution_count": 81,
   "metadata": {},
   "outputs": [],
   "source": [
    "def no_depen(row):\n",
    "    if (row['income'] > 130000) and (row['age'] > 36):\n",
    "        return 'E'\n",
    "    elif (row['income'] > 130000) and (row['age'] < 36):\n",
    "        return 'F'\n",
    "    elif (row['income'] < 130000) and (row['age'] < 36):\n",
    "        return 'G'\n",
    "    elif (row['income'] <= 130000) and (row['age'] >= 36):\n",
    "        return 'H'\n",
    "    else: return np.nan"
   ]
  },
  {
   "cell_type": "code",
   "execution_count": 82,
   "metadata": {},
   "outputs": [
    {
     "name": "stderr",
     "output_type": "stream",
     "text": [
      "<ipython-input-82-0a7b82e332bd>:1: SettingWithCopyWarning: \n",
      "A value is trying to be set on a copy of a slice from a DataFrame.\n",
      "Try using .loc[row_indexer,col_indexer] = value instead\n",
      "\n",
      "See the caveats in the documentation: https://pandas.pydata.org/pandas-docs/stable/user_guide/indexing.html#returning-a-view-versus-a-copy\n",
      "  df_nodependants['customer_profile'] = df_nodependants.apply(no_depen, axis=1)\n"
     ]
    }
   ],
   "source": [
    "df_nodependants['customer_profile'] = df_nodependants.apply(no_depen, axis=1)"
   ]
  },
  {
   "cell_type": "code",
   "execution_count": 84,
   "metadata": {},
   "outputs": [
    {
     "data": {
      "text/plain": [
       "H    2926232\n",
       "G    1692472\n",
       "E    1465627\n",
       "F      19788\n",
       "Name: customer_profile, dtype: int64"
      ]
     },
     "execution_count": 84,
     "metadata": {},
     "output_type": "execute_result"
    }
   ],
   "source": [
    "df_nodependants['customer_profile'].value_counts()"
   ]
  },
  {
   "cell_type": "markdown",
   "metadata": {},
   "source": [
    "## Merging df's"
   ]
  },
  {
   "cell_type": "code",
   "execution_count": 87,
   "metadata": {},
   "outputs": [],
   "source": [
    "frames = [df_dependants, df_nodependants]"
   ]
  },
  {
   "cell_type": "code",
   "execution_count": 88,
   "metadata": {},
   "outputs": [],
   "source": [
    "df_profile = pd.concat(frames)"
   ]
  },
  {
   "cell_type": "markdown",
   "metadata": {},
   "source": [
    "Checking that df with profile column is same size as original df:"
   ]
  },
  {
   "cell_type": "code",
   "execution_count": 89,
   "metadata": {},
   "outputs": [
    {
     "data": {
      "text/plain": [
       "(24414876, 32)"
      ]
     },
     "execution_count": 89,
     "metadata": {},
     "output_type": "execute_result"
    }
   ],
   "source": [
    "df_profile.shape"
   ]
  },
  {
   "cell_type": "code",
   "execution_count": 90,
   "metadata": {},
   "outputs": [
    {
     "data": {
      "text/plain": [
       "(24414876, 31)"
      ]
     },
     "execution_count": 90,
     "metadata": {},
     "output_type": "execute_result"
    }
   ],
   "source": [
    "df.shape"
   ]
  },
  {
   "cell_type": "markdown",
   "metadata": {},
   "source": [
    "## Q6 Visualization"
   ]
  },
  {
   "cell_type": "code",
   "execution_count": 92,
   "metadata": {},
   "outputs": [
    {
     "data": {
      "text/plain": [
       "<AxesSubplot:>"
      ]
     },
     "execution_count": 92,
     "metadata": {},
     "output_type": "execute_result"
    },
    {
     "data": {
      "image/png": "[encoded data removed]",
      "text/plain": [
       "<Figure size 432x288 with 1 Axes>"
      ]
     },
     "metadata": {
      "needs_background": "light"
     },
     "output_type": "display_data"
    }
   ],
   "source": [
    "# Bar chart showing frequency of each customer profile\n",
    "df_profile['customer_profile'].value_counts().plot.bar()"
   ]
  },
  {
   "cell_type": "markdown",
   "metadata": {},
   "source": [
    "## Q7 - max, mean, min  \n",
    "Aggregate the max, mean, and min variables on a customer-profile level for usage frequency and expenditure."
   ]
  },
  {
   "cell_type": "code",
   "execution_count": 95,
   "metadata": {},
   "outputs": [
    {
     "data": {
      "text/html": [
       "<div>\n",
       "<style scoped>\n",
       "    .dataframe tbody tr th:only-of-type {\n",
       "        vertical-align: middle;\n",
       "    }\n",
       "\n",
       "    .dataframe tbody tr th {\n",
       "        vertical-align: top;\n",
       "    }\n",
       "\n",
       "    .dataframe thead tr th {\n",
       "        text-align: left;\n",
       "    }\n",
       "\n",
       "    .dataframe thead tr:last-of-type th {\n",
       "        text-align: right;\n",
       "    }\n",
       "</style>\n",
       "<table border=\"1\" class=\"dataframe\">\n",
       "  <thead>\n",
       "    <tr>\n",
       "      <th></th>\n",
       "      <th>order_number</th>\n",
       "    </tr>\n",
       "    <tr>\n",
       "      <th></th>\n",
       "      <th>max</th>\n",
       "    </tr>\n",
       "    <tr>\n",
       "      <th>customer_profile</th>\n",
       "      <th></th>\n",
       "    </tr>\n",
       "  </thead>\n",
       "  <tbody>\n",
       "    <tr>\n",
       "      <th>A</th>\n",
       "      <td>99</td>\n",
       "    </tr>\n",
       "    <tr>\n",
       "      <th>B</th>\n",
       "      <td>99</td>\n",
       "    </tr>\n",
       "    <tr>\n",
       "      <th>C</th>\n",
       "      <td>99</td>\n",
       "    </tr>\n",
       "    <tr>\n",
       "      <th>D</th>\n",
       "      <td>99</td>\n",
       "    </tr>\n",
       "    <tr>\n",
       "      <th>E</th>\n",
       "      <td>99</td>\n",
       "    </tr>\n",
       "    <tr>\n",
       "      <th>F</th>\n",
       "      <td>96</td>\n",
       "    </tr>\n",
       "    <tr>\n",
       "      <th>G</th>\n",
       "      <td>99</td>\n",
       "    </tr>\n",
       "    <tr>\n",
       "      <th>H</th>\n",
       "      <td>99</td>\n",
       "    </tr>\n",
       "  </tbody>\n",
       "</table>\n",
       "</div>"
      ],
      "text/plain": [
       "                 order_number\n",
       "                          max\n",
       "customer_profile             \n",
       "A                          99\n",
       "B                          99\n",
       "C                          99\n",
       "D                          99\n",
       "E                          99\n",
       "F                          96\n",
       "G                          99\n",
       "H                          99"
      ]
     },
     "execution_count": 95,
     "metadata": {},
     "output_type": "execute_result"
    }
   ],
   "source": [
    "# max freq grouped by profile\n",
    "df_profile.groupby('customer_profile').agg({'order_number' : ['max']})"
   ]
  },
  {
   "cell_type": "code",
   "execution_count": 96,
   "metadata": {},
   "outputs": [
    {
     "data": {
      "text/html": [
       "<div>\n",
       "<style scoped>\n",
       "    .dataframe tbody tr th:only-of-type {\n",
       "        vertical-align: middle;\n",
       "    }\n",
       "\n",
       "    .dataframe tbody tr th {\n",
       "        vertical-align: top;\n",
       "    }\n",
       "\n",
       "    .dataframe thead tr th {\n",
       "        text-align: left;\n",
       "    }\n",
       "\n",
       "    .dataframe thead tr:last-of-type th {\n",
       "        text-align: right;\n",
       "    }\n",
       "</style>\n",
       "<table border=\"1\" class=\"dataframe\">\n",
       "  <thead>\n",
       "    <tr>\n",
       "      <th></th>\n",
       "      <th>order_number</th>\n",
       "    </tr>\n",
       "    <tr>\n",
       "      <th></th>\n",
       "      <th>mean</th>\n",
       "    </tr>\n",
       "    <tr>\n",
       "      <th>customer_profile</th>\n",
       "      <th></th>\n",
       "    </tr>\n",
       "  </thead>\n",
       "  <tbody>\n",
       "    <tr>\n",
       "      <th>A</th>\n",
       "      <td>21.872333</td>\n",
       "    </tr>\n",
       "    <tr>\n",
       "      <th>B</th>\n",
       "      <td>24.466097</td>\n",
       "    </tr>\n",
       "    <tr>\n",
       "      <th>C</th>\n",
       "      <td>21.870686</td>\n",
       "    </tr>\n",
       "    <tr>\n",
       "      <th>D</th>\n",
       "      <td>21.910876</td>\n",
       "    </tr>\n",
       "    <tr>\n",
       "      <th>E</th>\n",
       "      <td>22.518051</td>\n",
       "    </tr>\n",
       "    <tr>\n",
       "      <th>F</th>\n",
       "      <td>24.672579</td>\n",
       "    </tr>\n",
       "    <tr>\n",
       "      <th>G</th>\n",
       "      <td>21.845222</td>\n",
       "    </tr>\n",
       "    <tr>\n",
       "      <th>H</th>\n",
       "      <td>22.017757</td>\n",
       "    </tr>\n",
       "  </tbody>\n",
       "</table>\n",
       "</div>"
      ],
      "text/plain": [
       "                 order_number\n",
       "                         mean\n",
       "customer_profile             \n",
       "A                   21.872333\n",
       "B                   24.466097\n",
       "C                   21.870686\n",
       "D                   21.910876\n",
       "E                   22.518051\n",
       "F                   24.672579\n",
       "G                   21.845222\n",
       "H                   22.017757"
      ]
     },
     "execution_count": 96,
     "metadata": {},
     "output_type": "execute_result"
    }
   ],
   "source": [
    "# mean freq grouped by profile\n",
    "df_profile.groupby('customer_profile').agg({'order_number' : ['mean']})"
   ]
  },
  {
   "cell_type": "code",
   "execution_count": 97,
   "metadata": {},
   "outputs": [
    {
     "data": {
      "text/html": [
       "<div>\n",
       "<style scoped>\n",
       "    .dataframe tbody tr th:only-of-type {\n",
       "        vertical-align: middle;\n",
       "    }\n",
       "\n",
       "    .dataframe tbody tr th {\n",
       "        vertical-align: top;\n",
       "    }\n",
       "\n",
       "    .dataframe thead tr th {\n",
       "        text-align: left;\n",
       "    }\n",
       "\n",
       "    .dataframe thead tr:last-of-type th {\n",
       "        text-align: right;\n",
       "    }\n",
       "</style>\n",
       "<table border=\"1\" class=\"dataframe\">\n",
       "  <thead>\n",
       "    <tr>\n",
       "      <th></th>\n",
       "      <th>order_number</th>\n",
       "    </tr>\n",
       "    <tr>\n",
       "      <th></th>\n",
       "      <th>min</th>\n",
       "    </tr>\n",
       "    <tr>\n",
       "      <th>customer_profile</th>\n",
       "      <th></th>\n",
       "    </tr>\n",
       "  </thead>\n",
       "  <tbody>\n",
       "    <tr>\n",
       "      <th>A</th>\n",
       "      <td>5</td>\n",
       "    </tr>\n",
       "    <tr>\n",
       "      <th>B</th>\n",
       "      <td>5</td>\n",
       "    </tr>\n",
       "    <tr>\n",
       "      <th>C</th>\n",
       "      <td>5</td>\n",
       "    </tr>\n",
       "    <tr>\n",
       "      <th>D</th>\n",
       "      <td>5</td>\n",
       "    </tr>\n",
       "    <tr>\n",
       "      <th>E</th>\n",
       "      <td>5</td>\n",
       "    </tr>\n",
       "    <tr>\n",
       "      <th>F</th>\n",
       "      <td>5</td>\n",
       "    </tr>\n",
       "    <tr>\n",
       "      <th>G</th>\n",
       "      <td>5</td>\n",
       "    </tr>\n",
       "    <tr>\n",
       "      <th>H</th>\n",
       "      <td>5</td>\n",
       "    </tr>\n",
       "  </tbody>\n",
       "</table>\n",
       "</div>"
      ],
      "text/plain": [
       "                 order_number\n",
       "                          min\n",
       "customer_profile             \n",
       "A                           5\n",
       "B                           5\n",
       "C                           5\n",
       "D                           5\n",
       "E                           5\n",
       "F                           5\n",
       "G                           5\n",
       "H                           5"
      ]
     },
     "execution_count": 97,
     "metadata": {},
     "output_type": "execute_result"
    }
   ],
   "source": [
    "# min freq grouped by profile\n",
    "df_profile.groupby('customer_profile').agg({'order_number' : ['min']})"
   ]
  },
  {
   "cell_type": "code",
   "execution_count": 102,
   "metadata": {},
   "outputs": [
    {
     "data": {
      "text/html": [
       "<div>\n",
       "<style scoped>\n",
       "    .dataframe tbody tr th:only-of-type {\n",
       "        vertical-align: middle;\n",
       "    }\n",
       "\n",
       "    .dataframe tbody tr th {\n",
       "        vertical-align: top;\n",
       "    }\n",
       "\n",
       "    .dataframe thead tr th {\n",
       "        text-align: left;\n",
       "    }\n",
       "\n",
       "    .dataframe thead tr:last-of-type th {\n",
       "        text-align: right;\n",
       "    }\n",
       "</style>\n",
       "<table border=\"1\" class=\"dataframe\">\n",
       "  <thead>\n",
       "    <tr>\n",
       "      <th></th>\n",
       "      <th>prices</th>\n",
       "    </tr>\n",
       "    <tr>\n",
       "      <th></th>\n",
       "      <th>max</th>\n",
       "    </tr>\n",
       "    <tr>\n",
       "      <th>customer_profile</th>\n",
       "      <th></th>\n",
       "    </tr>\n",
       "  </thead>\n",
       "  <tbody>\n",
       "    <tr>\n",
       "      <th>A</th>\n",
       "      <td>99999</td>\n",
       "    </tr>\n",
       "    <tr>\n",
       "      <th>B</th>\n",
       "      <td>99999</td>\n",
       "    </tr>\n",
       "    <tr>\n",
       "      <th>C</th>\n",
       "      <td>99999</td>\n",
       "    </tr>\n",
       "    <tr>\n",
       "      <th>D</th>\n",
       "      <td>99999</td>\n",
       "    </tr>\n",
       "    <tr>\n",
       "      <th>E</th>\n",
       "      <td>99999</td>\n",
       "    </tr>\n",
       "    <tr>\n",
       "      <th>F</th>\n",
       "      <td>99999</td>\n",
       "    </tr>\n",
       "    <tr>\n",
       "      <th>G</th>\n",
       "      <td>99999</td>\n",
       "    </tr>\n",
       "    <tr>\n",
       "      <th>H</th>\n",
       "      <td>99999</td>\n",
       "    </tr>\n",
       "  </tbody>\n",
       "</table>\n",
       "</div>"
      ],
      "text/plain": [
       "                 prices\n",
       "                    max\n",
       "customer_profile       \n",
       "A                 99999\n",
       "B                 99999\n",
       "C                 99999\n",
       "D                 99999\n",
       "E                 99999\n",
       "F                 99999\n",
       "G                 99999\n",
       "H                 99999"
      ]
     },
     "execution_count": 102,
     "metadata": {},
     "output_type": "execute_result"
    }
   ],
   "source": [
    "# max expenditure grouped by profile\n",
    "df_profile.groupby('customer_profile').agg({'prices' : ['max']})"
   ]
  },
  {
   "cell_type": "code",
   "execution_count": 103,
   "metadata": {},
   "outputs": [
    {
     "data": {
      "text/html": [
       "<div>\n",
       "<style scoped>\n",
       "    .dataframe tbody tr th:only-of-type {\n",
       "        vertical-align: middle;\n",
       "    }\n",
       "\n",
       "    .dataframe tbody tr th {\n",
       "        vertical-align: top;\n",
       "    }\n",
       "\n",
       "    .dataframe thead tr th {\n",
       "        text-align: left;\n",
       "    }\n",
       "\n",
       "    .dataframe thead tr:last-of-type th {\n",
       "        text-align: right;\n",
       "    }\n",
       "</style>\n",
       "<table border=\"1\" class=\"dataframe\">\n",
       "  <thead>\n",
       "    <tr>\n",
       "      <th></th>\n",
       "      <th>prices</th>\n",
       "    </tr>\n",
       "    <tr>\n",
       "      <th></th>\n",
       "      <th>mean</th>\n",
       "    </tr>\n",
       "    <tr>\n",
       "      <th>customer_profile</th>\n",
       "      <th></th>\n",
       "    </tr>\n",
       "  </thead>\n",
       "  <tbody>\n",
       "    <tr>\n",
       "      <th>A</th>\n",
       "      <td>18.103096</td>\n",
       "    </tr>\n",
       "    <tr>\n",
       "      <th>B</th>\n",
       "      <td>250.434147</td>\n",
       "    </tr>\n",
       "    <tr>\n",
       "      <th>C</th>\n",
       "      <td>8.529563</td>\n",
       "    </tr>\n",
       "    <tr>\n",
       "      <th>D</th>\n",
       "      <td>7.898175</td>\n",
       "    </tr>\n",
       "    <tr>\n",
       "      <th>E</th>\n",
       "      <td>17.171566</td>\n",
       "    </tr>\n",
       "    <tr>\n",
       "      <th>F</th>\n",
       "      <td>343.277441</td>\n",
       "    </tr>\n",
       "    <tr>\n",
       "      <th>G</th>\n",
       "      <td>8.148684</td>\n",
       "    </tr>\n",
       "    <tr>\n",
       "      <th>H</th>\n",
       "      <td>8.396560</td>\n",
       "    </tr>\n",
       "  </tbody>\n",
       "</table>\n",
       "</div>"
      ],
      "text/plain": [
       "                      prices\n",
       "                        mean\n",
       "customer_profile            \n",
       "A                  18.103096\n",
       "B                 250.434147\n",
       "C                   8.529563\n",
       "D                   7.898175\n",
       "E                  17.171566\n",
       "F                 343.277441\n",
       "G                   8.148684\n",
       "H                   8.396560"
      ]
     },
     "execution_count": 103,
     "metadata": {},
     "output_type": "execute_result"
    }
   ],
   "source": [
    "# mean expenditure grouped by profile\n",
    "df_profile.groupby('customer_profile').agg({'prices' : ['mean']})"
   ]
  },
  {
   "cell_type": "code",
   "execution_count": 104,
   "metadata": {},
   "outputs": [
    {
     "data": {
      "text/html": [
       "<div>\n",
       "<style scoped>\n",
       "    .dataframe tbody tr th:only-of-type {\n",
       "        vertical-align: middle;\n",
       "    }\n",
       "\n",
       "    .dataframe tbody tr th {\n",
       "        vertical-align: top;\n",
       "    }\n",
       "\n",
       "    .dataframe thead tr th {\n",
       "        text-align: left;\n",
       "    }\n",
       "\n",
       "    .dataframe thead tr:last-of-type th {\n",
       "        text-align: right;\n",
       "    }\n",
       "</style>\n",
       "<table border=\"1\" class=\"dataframe\">\n",
       "  <thead>\n",
       "    <tr>\n",
       "      <th></th>\n",
       "      <th>prices</th>\n",
       "    </tr>\n",
       "    <tr>\n",
       "      <th></th>\n",
       "      <th>min</th>\n",
       "    </tr>\n",
       "    <tr>\n",
       "      <th>customer_profile</th>\n",
       "      <th></th>\n",
       "    </tr>\n",
       "  </thead>\n",
       "  <tbody>\n",
       "    <tr>\n",
       "      <th>A</th>\n",
       "      <td>1</td>\n",
       "    </tr>\n",
       "    <tr>\n",
       "      <th>B</th>\n",
       "      <td>1</td>\n",
       "    </tr>\n",
       "    <tr>\n",
       "      <th>C</th>\n",
       "      <td>1</td>\n",
       "    </tr>\n",
       "    <tr>\n",
       "      <th>D</th>\n",
       "      <td>1</td>\n",
       "    </tr>\n",
       "    <tr>\n",
       "      <th>E</th>\n",
       "      <td>1</td>\n",
       "    </tr>\n",
       "    <tr>\n",
       "      <th>F</th>\n",
       "      <td>1</td>\n",
       "    </tr>\n",
       "    <tr>\n",
       "      <th>G</th>\n",
       "      <td>1</td>\n",
       "    </tr>\n",
       "    <tr>\n",
       "      <th>H</th>\n",
       "      <td>1</td>\n",
       "    </tr>\n",
       "  </tbody>\n",
       "</table>\n",
       "</div>"
      ],
      "text/plain": [
       "                 prices\n",
       "                    min\n",
       "customer_profile       \n",
       "A                     1\n",
       "B                     1\n",
       "C                     1\n",
       "D                     1\n",
       "E                     1\n",
       "F                     1\n",
       "G                     1\n",
       "H                     1"
      ]
     },
     "execution_count": 104,
     "metadata": {},
     "output_type": "execute_result"
    }
   ],
   "source": [
    "# min expenditure grouped by profile\n",
    "df_profile.groupby('customer_profile').agg({'prices' : ['min']})"
   ]
  },
  {
   "cell_type": "markdown",
   "metadata": {},
   "source": [
    "## Q8\n",
    "Compare customer profiles with regions and departments."
   ]
  },
  {
   "cell_type": "code",
   "execution_count": 105,
   "metadata": {},
   "outputs": [],
   "source": [
    "# crosstab comparing regions and profiles\n",
    "prof_region = pd.crosstab(df_profile['region'], df_profile['customer_profile'])"
   ]
  },
  {
   "cell_type": "code",
   "execution_count": 106,
   "metadata": {},
   "outputs": [
    {
     "data": {
      "text/html": [
       "<div>\n",
       "<style scoped>\n",
       "    .dataframe tbody tr th:only-of-type {\n",
       "        vertical-align: middle;\n",
       "    }\n",
       "\n",
       "    .dataframe tbody tr th {\n",
       "        vertical-align: top;\n",
       "    }\n",
       "\n",
       "    .dataframe thead th {\n",
       "        text-align: right;\n",
       "    }\n",
       "</style>\n",
       "<table border=\"1\" class=\"dataframe\">\n",
       "  <thead>\n",
       "    <tr style=\"text-align: right;\">\n",
       "      <th>customer_profile</th>\n",
       "      <th>A</th>\n",
       "      <th>B</th>\n",
       "      <th>C</th>\n",
       "      <th>D</th>\n",
       "      <th>E</th>\n",
       "      <th>F</th>\n",
       "      <th>G</th>\n",
       "      <th>H</th>\n",
       "    </tr>\n",
       "    <tr>\n",
       "      <th>region</th>\n",
       "      <th></th>\n",
       "      <th></th>\n",
       "      <th></th>\n",
       "      <th></th>\n",
       "      <th></th>\n",
       "      <th></th>\n",
       "      <th></th>\n",
       "      <th></th>\n",
       "    </tr>\n",
       "  </thead>\n",
       "  <tbody>\n",
       "    <tr>\n",
       "      <th>Midwest</th>\n",
       "      <td>1030747</td>\n",
       "      <td>11800</td>\n",
       "      <td>1187810</td>\n",
       "      <td>2042752</td>\n",
       "      <td>342698</td>\n",
       "      <td>6003</td>\n",
       "      <td>380428</td>\n",
       "      <td>707812</td>\n",
       "    </tr>\n",
       "    <tr>\n",
       "      <th>Northeast</th>\n",
       "      <td>768108</td>\n",
       "      <td>9564</td>\n",
       "      <td>907911</td>\n",
       "      <td>1564499</td>\n",
       "      <td>250741</td>\n",
       "      <td>3623</td>\n",
       "      <td>308962</td>\n",
       "      <td>501620</td>\n",
       "    </tr>\n",
       "    <tr>\n",
       "      <th>South</th>\n",
       "      <td>1405961</td>\n",
       "      <td>25455</td>\n",
       "      <td>1718933</td>\n",
       "      <td>2939504</td>\n",
       "      <td>491819</td>\n",
       "      <td>7406</td>\n",
       "      <td>577191</td>\n",
       "      <td>961766</td>\n",
       "    </tr>\n",
       "    <tr>\n",
       "      <th>West</th>\n",
       "      <td>1091492</td>\n",
       "      <td>15623</td>\n",
       "      <td>1304414</td>\n",
       "      <td>2281941</td>\n",
       "      <td>380369</td>\n",
       "      <td>2756</td>\n",
       "      <td>425891</td>\n",
       "      <td>755034</td>\n",
       "    </tr>\n",
       "  </tbody>\n",
       "</table>\n",
       "</div>"
      ],
      "text/plain": [
       "customer_profile        A      B        C        D       E     F       G  \\\n",
       "region                                                                     \n",
       "Midwest           1030747  11800  1187810  2042752  342698  6003  380428   \n",
       "Northeast          768108   9564   907911  1564499  250741  3623  308962   \n",
       "South             1405961  25455  1718933  2939504  491819  7406  577191   \n",
       "West              1091492  15623  1304414  2281941  380369  2756  425891   \n",
       "\n",
       "customer_profile       H  \n",
       "region                    \n",
       "Midwest           707812  \n",
       "Northeast         501620  \n",
       "South             961766  \n",
       "West              755034  "
      ]
     },
     "execution_count": 106,
     "metadata": {},
     "output_type": "execute_result"
    }
   ],
   "source": [
    "prof_region"
   ]
  },
  {
   "cell_type": "code",
   "execution_count": 107,
   "metadata": {},
   "outputs": [],
   "source": [
    "prof_dep = pd.crosstab(df_profile['department_id'], df_profile['customer_profile'])"
   ]
  },
  {
   "cell_type": "code",
   "execution_count": 108,
   "metadata": {},
   "outputs": [
    {
     "data": {
      "text/html": [
       "<div>\n",
       "<style scoped>\n",
       "    .dataframe tbody tr th:only-of-type {\n",
       "        vertical-align: middle;\n",
       "    }\n",
       "\n",
       "    .dataframe tbody tr th {\n",
       "        vertical-align: top;\n",
       "    }\n",
       "\n",
       "    .dataframe thead th {\n",
       "        text-align: right;\n",
       "    }\n",
       "</style>\n",
       "<table border=\"1\" class=\"dataframe\">\n",
       "  <thead>\n",
       "    <tr style=\"text-align: right;\">\n",
       "      <th>customer_profile</th>\n",
       "      <th>A</th>\n",
       "      <th>B</th>\n",
       "      <th>C</th>\n",
       "      <th>D</th>\n",
       "      <th>E</th>\n",
       "      <th>F</th>\n",
       "      <th>G</th>\n",
       "      <th>H</th>\n",
       "    </tr>\n",
       "    <tr>\n",
       "      <th>department_id</th>\n",
       "      <th></th>\n",
       "      <th></th>\n",
       "      <th></th>\n",
       "      <th></th>\n",
       "      <th></th>\n",
       "      <th></th>\n",
       "      <th></th>\n",
       "      <th></th>\n",
       "    </tr>\n",
       "  </thead>\n",
       "  <tbody>\n",
       "    <tr>\n",
       "      <th>1</th>\n",
       "      <td>292332</td>\n",
       "      <td>5255</td>\n",
       "      <td>341151</td>\n",
       "      <td>583124</td>\n",
       "      <td>100205</td>\n",
       "      <td>1301</td>\n",
       "      <td>109852</td>\n",
       "      <td>194078</td>\n",
       "    </tr>\n",
       "    <tr>\n",
       "      <th>2</th>\n",
       "      <td>4839</td>\n",
       "      <td>164</td>\n",
       "      <td>5716</td>\n",
       "      <td>9507</td>\n",
       "      <td>1612</td>\n",
       "      <td>44</td>\n",
       "      <td>1951</td>\n",
       "      <td>3327</td>\n",
       "    </tr>\n",
       "    <tr>\n",
       "      <th>3</th>\n",
       "      <td>161338</td>\n",
       "      <td>3026</td>\n",
       "      <td>184134</td>\n",
       "      <td>313092</td>\n",
       "      <td>53905</td>\n",
       "      <td>1038</td>\n",
       "      <td>61650</td>\n",
       "      <td>104946</td>\n",
       "    </tr>\n",
       "    <tr>\n",
       "      <th>4</th>\n",
       "      <td>1283618</td>\n",
       "      <td>12389</td>\n",
       "      <td>1514627</td>\n",
       "      <td>2603064</td>\n",
       "      <td>439717</td>\n",
       "      <td>4291</td>\n",
       "      <td>502884</td>\n",
       "      <td>865824</td>\n",
       "    </tr>\n",
       "    <tr>\n",
       "      <th>5</th>\n",
       "      <td>20081</td>\n",
       "      <td>1792</td>\n",
       "      <td>22357</td>\n",
       "      <td>35715</td>\n",
       "      <td>7709</td>\n",
       "      <td>606</td>\n",
       "      <td>6997</td>\n",
       "      <td>12630</td>\n",
       "    </tr>\n",
       "    <tr>\n",
       "      <th>6</th>\n",
       "      <td>35502</td>\n",
       "      <td>525</td>\n",
       "      <td>41481</td>\n",
       "      <td>70340</td>\n",
       "      <td>12183</td>\n",
       "      <td>142</td>\n",
       "      <td>14258</td>\n",
       "      <td>23446</td>\n",
       "    </tr>\n",
       "    <tr>\n",
       "      <th>7</th>\n",
       "      <td>343231</td>\n",
       "      <td>5481</td>\n",
       "      <td>419651</td>\n",
       "      <td>755685</td>\n",
       "      <td>117438</td>\n",
       "      <td>1844</td>\n",
       "      <td>142013</td>\n",
       "      <td>250690</td>\n",
       "    </tr>\n",
       "    <tr>\n",
       "      <th>8</th>\n",
       "      <td>12982</td>\n",
       "      <td>276</td>\n",
       "      <td>14822</td>\n",
       "      <td>25740</td>\n",
       "      <td>5459</td>\n",
       "      <td>151</td>\n",
       "      <td>5073</td>\n",
       "      <td>7567</td>\n",
       "    </tr>\n",
       "    <tr>\n",
       "      <th>9</th>\n",
       "      <td>115778</td>\n",
       "      <td>1847</td>\n",
       "      <td>132980</td>\n",
       "      <td>225622</td>\n",
       "      <td>38766</td>\n",
       "      <td>498</td>\n",
       "      <td>44120</td>\n",
       "      <td>74006</td>\n",
       "    </tr>\n",
       "    <tr>\n",
       "      <th>10</th>\n",
       "      <td>4547</td>\n",
       "      <td>9</td>\n",
       "      <td>5975</td>\n",
       "      <td>10442</td>\n",
       "      <td>1418</td>\n",
       "      <td>2</td>\n",
       "      <td>1921</td>\n",
       "      <td>3244</td>\n",
       "    </tr>\n",
       "    <tr>\n",
       "      <th>11</th>\n",
       "      <td>57813</td>\n",
       "      <td>1061</td>\n",
       "      <td>67567</td>\n",
       "      <td>119613</td>\n",
       "      <td>19873</td>\n",
       "      <td>339</td>\n",
       "      <td>23108</td>\n",
       "      <td>39037</td>\n",
       "    </tr>\n",
       "    <tr>\n",
       "      <th>12</th>\n",
       "      <td>101200</td>\n",
       "      <td>1459</td>\n",
       "      <td>110149</td>\n",
       "      <td>182665</td>\n",
       "      <td>32740</td>\n",
       "      <td>450</td>\n",
       "      <td>35129</td>\n",
       "      <td>59872</td>\n",
       "    </tr>\n",
       "    <tr>\n",
       "      <th>13</th>\n",
       "      <td>249762</td>\n",
       "      <td>3839</td>\n",
       "      <td>289979</td>\n",
       "      <td>496289</td>\n",
       "      <td>85517</td>\n",
       "      <td>1202</td>\n",
       "      <td>95933</td>\n",
       "      <td>162615</td>\n",
       "    </tr>\n",
       "    <tr>\n",
       "      <th>14</th>\n",
       "      <td>89883</td>\n",
       "      <td>1522</td>\n",
       "      <td>111938</td>\n",
       "      <td>191392</td>\n",
       "      <td>30154</td>\n",
       "      <td>476</td>\n",
       "      <td>36180</td>\n",
       "      <td>63330</td>\n",
       "    </tr>\n",
       "    <tr>\n",
       "      <th>15</th>\n",
       "      <td>146702</td>\n",
       "      <td>2337</td>\n",
       "      <td>165660</td>\n",
       "      <td>277528</td>\n",
       "      <td>48548</td>\n",
       "      <td>671</td>\n",
       "      <td>54663</td>\n",
       "      <td>91543</td>\n",
       "    </tr>\n",
       "    <tr>\n",
       "      <th>16</th>\n",
       "      <td>737708</td>\n",
       "      <td>11355</td>\n",
       "      <td>871875</td>\n",
       "      <td>1468673</td>\n",
       "      <td>249755</td>\n",
       "      <td>3409</td>\n",
       "      <td>285789</td>\n",
       "      <td>491113</td>\n",
       "    </tr>\n",
       "    <tr>\n",
       "      <th>17</th>\n",
       "      <td>95305</td>\n",
       "      <td>2599</td>\n",
       "      <td>110754</td>\n",
       "      <td>198363</td>\n",
       "      <td>32398</td>\n",
       "      <td>1173</td>\n",
       "      <td>36843</td>\n",
       "      <td>61686</td>\n",
       "    </tr>\n",
       "    <tr>\n",
       "      <th>18</th>\n",
       "      <td>61779</td>\n",
       "      <td>780</td>\n",
       "      <td>67814</td>\n",
       "      <td>121246</td>\n",
       "      <td>21425</td>\n",
       "      <td>140</td>\n",
       "      <td>23635</td>\n",
       "      <td>39099</td>\n",
       "    </tr>\n",
       "    <tr>\n",
       "      <th>19</th>\n",
       "      <td>332939</td>\n",
       "      <td>5111</td>\n",
       "      <td>463310</td>\n",
       "      <td>839948</td>\n",
       "      <td>116078</td>\n",
       "      <td>1441</td>\n",
       "      <td>151455</td>\n",
       "      <td>276383</td>\n",
       "    </tr>\n",
       "    <tr>\n",
       "      <th>20</th>\n",
       "      <td>138730</td>\n",
       "      <td>1522</td>\n",
       "      <td>164764</td>\n",
       "      <td>279913</td>\n",
       "      <td>47302</td>\n",
       "      <td>517</td>\n",
       "      <td>54817</td>\n",
       "      <td>95346</td>\n",
       "    </tr>\n",
       "    <tr>\n",
       "      <th>21</th>\n",
       "      <td>10239</td>\n",
       "      <td>93</td>\n",
       "      <td>12364</td>\n",
       "      <td>20735</td>\n",
       "      <td>3425</td>\n",
       "      <td>53</td>\n",
       "      <td>4201</td>\n",
       "      <td>6450</td>\n",
       "    </tr>\n",
       "  </tbody>\n",
       "</table>\n",
       "</div>"
      ],
      "text/plain": [
       "customer_profile        A      B        C        D       E     F       G  \\\n",
       "department_id                                                              \n",
       "1                  292332   5255   341151   583124  100205  1301  109852   \n",
       "2                    4839    164     5716     9507    1612    44    1951   \n",
       "3                  161338   3026   184134   313092   53905  1038   61650   \n",
       "4                 1283618  12389  1514627  2603064  439717  4291  502884   \n",
       "5                   20081   1792    22357    35715    7709   606    6997   \n",
       "6                   35502    525    41481    70340   12183   142   14258   \n",
       "7                  343231   5481   419651   755685  117438  1844  142013   \n",
       "8                   12982    276    14822    25740    5459   151    5073   \n",
       "9                  115778   1847   132980   225622   38766   498   44120   \n",
       "10                   4547      9     5975    10442    1418     2    1921   \n",
       "11                  57813   1061    67567   119613   19873   339   23108   \n",
       "12                 101200   1459   110149   182665   32740   450   35129   \n",
       "13                 249762   3839   289979   496289   85517  1202   95933   \n",
       "14                  89883   1522   111938   191392   30154   476   36180   \n",
       "15                 146702   2337   165660   277528   48548   671   54663   \n",
       "16                 737708  11355   871875  1468673  249755  3409  285789   \n",
       "17                  95305   2599   110754   198363   32398  1173   36843   \n",
       "18                  61779    780    67814   121246   21425   140   23635   \n",
       "19                 332939   5111   463310   839948  116078  1441  151455   \n",
       "20                 138730   1522   164764   279913   47302   517   54817   \n",
       "21                  10239     93    12364    20735    3425    53    4201   \n",
       "\n",
       "customer_profile       H  \n",
       "department_id             \n",
       "1                 194078  \n",
       "2                   3327  \n",
       "3                 104946  \n",
       "4                 865824  \n",
       "5                  12630  \n",
       "6                  23446  \n",
       "7                 250690  \n",
       "8                   7567  \n",
       "9                  74006  \n",
       "10                  3244  \n",
       "11                 39037  \n",
       "12                 59872  \n",
       "13                162615  \n",
       "14                 63330  \n",
       "15                 91543  \n",
       "16                491113  \n",
       "17                 61686  \n",
       "18                 39099  \n",
       "19                276383  \n",
       "20                 95346  \n",
       "21                  6450  "
      ]
     },
     "execution_count": 108,
     "metadata": {},
     "output_type": "execute_result"
    }
   ],
   "source": [
    "prof_dep"
   ]
  },
  {
   "cell_type": "markdown",
   "metadata": {},
   "source": [
    "## Q9\n",
    "Produce suitable charts to illustrate your results and export them in your project folder."
   ]
  },
  {
   "cell_type": "markdown",
   "metadata": {},
   "source": [
    "## Export"
   ]
  },
  {
   "cell_type": "code",
   "execution_count": 135,
   "metadata": {},
   "outputs": [],
   "source": [
    "# export df with cust profile column\n",
    "df_profile.to_pickle(os.path.join(path, '02 Data', 'Prepared Data', 'Customer Profile.pkl'))"
   ]
  },
  {
   "cell_type": "code",
   "execution_count": null,
   "metadata": {},
   "outputs": [],
   "source": []
  }
 ],
 "metadata": {
  "kernelspec": {
   "display_name": "Python 3",
   "language": "python",
   "name": "python3"
  },
  "language_info": {
   "codemirror_mode": {
    "name": "ipython",
    "version": 3
   },
   "file_extension": ".py",
   "mimetype": "text/x-python",
   "name": "python",
   "nbconvert_exporter": "python",
   "pygments_lexer": "ipython3",
   "version": "3.8.5"
  }
 },
 "nbformat": 4,
 "nbformat_minor": 4
}
